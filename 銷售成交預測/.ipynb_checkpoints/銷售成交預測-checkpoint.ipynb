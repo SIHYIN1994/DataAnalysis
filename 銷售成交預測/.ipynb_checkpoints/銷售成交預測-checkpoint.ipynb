{
 "cells": [
  {
   "cell_type": "code",
   "execution_count": 1,
   "id": "f46717c5-d401-49d7-b8ab-8643c0fa8cd7",
   "metadata": {},
   "outputs": [],
   "source": [
    "%matplotlib inline\n",
    "import numpy as np\n",
    "import pandas as pd\n",
    "import matplotlib.pyplot as plt\n",
    "import seaborn as sns"
   ]
  },
  {
   "cell_type": "code",
   "execution_count": 2,
   "id": "91e57c92-43f1-464a-aa41-d40bd924e29c",
   "metadata": {},
   "outputs": [
    {
     "data": {
      "text/plain": [
       "'1.26.1'"
      ]
     },
     "execution_count": 2,
     "metadata": {},
     "output_type": "execute_result"
    }
   ],
   "source": [
    "np.__version__"
   ]
  },
  {
   "cell_type": "code",
   "execution_count": 3,
   "id": "b48101ee-01a1-4c6e-9c47-5cbf081735dd",
   "metadata": {},
   "outputs": [
    {
     "data": {
      "text/plain": [
       "'2.1.1'"
      ]
     },
     "execution_count": 3,
     "metadata": {},
     "output_type": "execute_result"
    }
   ],
   "source": [
    "pd.__version__"
   ]
  },
  {
   "cell_type": "code",
   "execution_count": 4,
   "id": "43eebd60-d705-4ae8-9de7-954846f8461e",
   "metadata": {},
   "outputs": [
    {
     "data": {
      "text/plain": [
       "'0.13.2'"
      ]
     },
     "execution_count": 4,
     "metadata": {},
     "output_type": "execute_result"
    }
   ],
   "source": [
    "sns.__version__"
   ]
  },
  {
   "cell_type": "raw",
   "id": "ad9bf2d4-ec8d-464f-83d9-f4e33f2ce82f",
   "metadata": {},
   "source": [
    "資料集：銀行行銷資料集(Bank Marketing Data Set)\n",
    "目的: 建出預測高成交率的客戶名單,提高業務銷售率\n",
    "效果: 提供潛在客戶列表Excel檔案給業務利用\n",
    "資料表: bank-full.csv,包含所有範例和17個輸入,按日期排序(資料集的舊版本)"
   ]
  },
  {
   "cell_type": "markdown",
   "id": "59954832-471d-4cd8-b4b8-4b9e0440d83c",
   "metadata": {},
   "source": [
    "資料來源:https://archive.ics.uci.edu/dataset/222/bank+marketing\n"
   ]
  },
  {
   "cell_type": "code",
   "execution_count": 37,
   "id": "d3cda6a1-50d3-4c3b-a9ad-f959effd1fd3",
   "metadata": {},
   "outputs": [],
   "source": [
    "# 載入資料\n",
    "import zipfile \n",
    "url='../datasets/bank.zip'\n",
    "zip_file = zipfile.ZipFile(url)\n",
    "df_raw = pd.read_csv(zip_file.open('bank-full.csv'), sep=';')\n",
    "zip_file.close()"
   ]
  },
  {
   "cell_type": "code",
   "execution_count": 38,
   "id": "d96713f2-803c-4291-bbdb-e057b31410e6",
   "metadata": {},
   "outputs": [],
   "source": [
    "df=df_raw.copy(deep=True)\n",
    "df.columns=['年齡','職業','婚姻','學歷','違約','年平均餘額','房屋貸款','個人信貸',\n",
    "            '聯絡方式','最近一次聯絡星期','最近一次聯絡月份','最近一次聯絡秒數',\n",
    "            '促銷期間聯絡次數','上次促銷後_經過天數','促銷前聯絡次數',\n",
    "            '上次促銷結果','是否購買定期存款']"
   ]
  },
  {
   "cell_type": "code",
   "execution_count": 39,
   "id": "99041066-81bf-4a6e-83f0-8bb1b499d4a1",
   "metadata": {},
   "outputs": [
    {
     "data": {
      "text/html": [
       "<div>\n",
       "<style scoped>\n",
       "    .dataframe tbody tr th:only-of-type {\n",
       "        vertical-align: middle;\n",
       "    }\n",
       "\n",
       "    .dataframe tbody tr th {\n",
       "        vertical-align: top;\n",
       "    }\n",
       "\n",
       "    .dataframe thead th {\n",
       "        text-align: right;\n",
       "    }\n",
       "</style>\n",
       "<table border=\"1\" class=\"dataframe\">\n",
       "  <thead>\n",
       "    <tr style=\"text-align: right;\">\n",
       "      <th></th>\n",
       "      <th>年齡</th>\n",
       "      <th>職業</th>\n",
       "      <th>婚姻</th>\n",
       "      <th>學歷</th>\n",
       "      <th>違約</th>\n",
       "      <th>年平均餘額</th>\n",
       "      <th>房屋貸款</th>\n",
       "      <th>個人信貸</th>\n",
       "      <th>聯絡方式</th>\n",
       "      <th>最近一次聯絡星期</th>\n",
       "      <th>最近一次聯絡月份</th>\n",
       "      <th>最近一次聯絡秒數</th>\n",
       "      <th>促銷期間聯絡次數</th>\n",
       "      <th>上次促銷後_經過天數</th>\n",
       "      <th>促銷前聯絡次數</th>\n",
       "      <th>上次促銷結果</th>\n",
       "      <th>是否購買定期存款</th>\n",
       "    </tr>\n",
       "  </thead>\n",
       "  <tbody>\n",
       "    <tr>\n",
       "      <th>0</th>\n",
       "      <td>58</td>\n",
       "      <td>management</td>\n",
       "      <td>married</td>\n",
       "      <td>tertiary</td>\n",
       "      <td>no</td>\n",
       "      <td>2143</td>\n",
       "      <td>yes</td>\n",
       "      <td>no</td>\n",
       "      <td>unknown</td>\n",
       "      <td>5</td>\n",
       "      <td>may</td>\n",
       "      <td>261</td>\n",
       "      <td>1</td>\n",
       "      <td>-1</td>\n",
       "      <td>0</td>\n",
       "      <td>unknown</td>\n",
       "      <td>no</td>\n",
       "    </tr>\n",
       "    <tr>\n",
       "      <th>1</th>\n",
       "      <td>44</td>\n",
       "      <td>technician</td>\n",
       "      <td>single</td>\n",
       "      <td>secondary</td>\n",
       "      <td>no</td>\n",
       "      <td>29</td>\n",
       "      <td>yes</td>\n",
       "      <td>no</td>\n",
       "      <td>unknown</td>\n",
       "      <td>5</td>\n",
       "      <td>may</td>\n",
       "      <td>151</td>\n",
       "      <td>1</td>\n",
       "      <td>-1</td>\n",
       "      <td>0</td>\n",
       "      <td>unknown</td>\n",
       "      <td>no</td>\n",
       "    </tr>\n",
       "    <tr>\n",
       "      <th>2</th>\n",
       "      <td>33</td>\n",
       "      <td>entrepreneur</td>\n",
       "      <td>married</td>\n",
       "      <td>secondary</td>\n",
       "      <td>no</td>\n",
       "      <td>2</td>\n",
       "      <td>yes</td>\n",
       "      <td>yes</td>\n",
       "      <td>unknown</td>\n",
       "      <td>5</td>\n",
       "      <td>may</td>\n",
       "      <td>76</td>\n",
       "      <td>1</td>\n",
       "      <td>-1</td>\n",
       "      <td>0</td>\n",
       "      <td>unknown</td>\n",
       "      <td>no</td>\n",
       "    </tr>\n",
       "    <tr>\n",
       "      <th>3</th>\n",
       "      <td>47</td>\n",
       "      <td>blue-collar</td>\n",
       "      <td>married</td>\n",
       "      <td>unknown</td>\n",
       "      <td>no</td>\n",
       "      <td>1506</td>\n",
       "      <td>yes</td>\n",
       "      <td>no</td>\n",
       "      <td>unknown</td>\n",
       "      <td>5</td>\n",
       "      <td>may</td>\n",
       "      <td>92</td>\n",
       "      <td>1</td>\n",
       "      <td>-1</td>\n",
       "      <td>0</td>\n",
       "      <td>unknown</td>\n",
       "      <td>no</td>\n",
       "    </tr>\n",
       "    <tr>\n",
       "      <th>4</th>\n",
       "      <td>33</td>\n",
       "      <td>unknown</td>\n",
       "      <td>single</td>\n",
       "      <td>unknown</td>\n",
       "      <td>no</td>\n",
       "      <td>1</td>\n",
       "      <td>no</td>\n",
       "      <td>no</td>\n",
       "      <td>unknown</td>\n",
       "      <td>5</td>\n",
       "      <td>may</td>\n",
       "      <td>198</td>\n",
       "      <td>1</td>\n",
       "      <td>-1</td>\n",
       "      <td>0</td>\n",
       "      <td>unknown</td>\n",
       "      <td>no</td>\n",
       "    </tr>\n",
       "    <tr>\n",
       "      <th>5</th>\n",
       "      <td>35</td>\n",
       "      <td>management</td>\n",
       "      <td>married</td>\n",
       "      <td>tertiary</td>\n",
       "      <td>no</td>\n",
       "      <td>231</td>\n",
       "      <td>yes</td>\n",
       "      <td>no</td>\n",
       "      <td>unknown</td>\n",
       "      <td>5</td>\n",
       "      <td>may</td>\n",
       "      <td>139</td>\n",
       "      <td>1</td>\n",
       "      <td>-1</td>\n",
       "      <td>0</td>\n",
       "      <td>unknown</td>\n",
       "      <td>no</td>\n",
       "    </tr>\n",
       "    <tr>\n",
       "      <th>6</th>\n",
       "      <td>28</td>\n",
       "      <td>management</td>\n",
       "      <td>single</td>\n",
       "      <td>tertiary</td>\n",
       "      <td>no</td>\n",
       "      <td>447</td>\n",
       "      <td>yes</td>\n",
       "      <td>yes</td>\n",
       "      <td>unknown</td>\n",
       "      <td>5</td>\n",
       "      <td>may</td>\n",
       "      <td>217</td>\n",
       "      <td>1</td>\n",
       "      <td>-1</td>\n",
       "      <td>0</td>\n",
       "      <td>unknown</td>\n",
       "      <td>no</td>\n",
       "    </tr>\n",
       "    <tr>\n",
       "      <th>7</th>\n",
       "      <td>42</td>\n",
       "      <td>entrepreneur</td>\n",
       "      <td>divorced</td>\n",
       "      <td>tertiary</td>\n",
       "      <td>yes</td>\n",
       "      <td>2</td>\n",
       "      <td>yes</td>\n",
       "      <td>no</td>\n",
       "      <td>unknown</td>\n",
       "      <td>5</td>\n",
       "      <td>may</td>\n",
       "      <td>380</td>\n",
       "      <td>1</td>\n",
       "      <td>-1</td>\n",
       "      <td>0</td>\n",
       "      <td>unknown</td>\n",
       "      <td>no</td>\n",
       "    </tr>\n",
       "    <tr>\n",
       "      <th>8</th>\n",
       "      <td>58</td>\n",
       "      <td>retired</td>\n",
       "      <td>married</td>\n",
       "      <td>primary</td>\n",
       "      <td>no</td>\n",
       "      <td>121</td>\n",
       "      <td>yes</td>\n",
       "      <td>no</td>\n",
       "      <td>unknown</td>\n",
       "      <td>5</td>\n",
       "      <td>may</td>\n",
       "      <td>50</td>\n",
       "      <td>1</td>\n",
       "      <td>-1</td>\n",
       "      <td>0</td>\n",
       "      <td>unknown</td>\n",
       "      <td>no</td>\n",
       "    </tr>\n",
       "    <tr>\n",
       "      <th>9</th>\n",
       "      <td>43</td>\n",
       "      <td>technician</td>\n",
       "      <td>single</td>\n",
       "      <td>secondary</td>\n",
       "      <td>no</td>\n",
       "      <td>593</td>\n",
       "      <td>yes</td>\n",
       "      <td>no</td>\n",
       "      <td>unknown</td>\n",
       "      <td>5</td>\n",
       "      <td>may</td>\n",
       "      <td>55</td>\n",
       "      <td>1</td>\n",
       "      <td>-1</td>\n",
       "      <td>0</td>\n",
       "      <td>unknown</td>\n",
       "      <td>no</td>\n",
       "    </tr>\n",
       "  </tbody>\n",
       "</table>\n",
       "</div>"
      ],
      "text/plain": [
       "   年齡            職業        婚姻         學歷   違約  年平均餘額 房屋貸款 個人信貸     聯絡方式  \\\n",
       "0  58    management   married   tertiary   no   2143  yes   no  unknown   \n",
       "1  44    technician    single  secondary   no     29  yes   no  unknown   \n",
       "2  33  entrepreneur   married  secondary   no      2  yes  yes  unknown   \n",
       "3  47   blue-collar   married    unknown   no   1506  yes   no  unknown   \n",
       "4  33       unknown    single    unknown   no      1   no   no  unknown   \n",
       "5  35    management   married   tertiary   no    231  yes   no  unknown   \n",
       "6  28    management    single   tertiary   no    447  yes  yes  unknown   \n",
       "7  42  entrepreneur  divorced   tertiary  yes      2  yes   no  unknown   \n",
       "8  58       retired   married    primary   no    121  yes   no  unknown   \n",
       "9  43    technician    single  secondary   no    593  yes   no  unknown   \n",
       "\n",
       "   最近一次聯絡星期 最近一次聯絡月份  最近一次聯絡秒數  促銷期間聯絡次數  上次促銷後_經過天數  促銷前聯絡次數   上次促銷結果  \\\n",
       "0         5      may       261         1          -1        0  unknown   \n",
       "1         5      may       151         1          -1        0  unknown   \n",
       "2         5      may        76         1          -1        0  unknown   \n",
       "3         5      may        92         1          -1        0  unknown   \n",
       "4         5      may       198         1          -1        0  unknown   \n",
       "5         5      may       139         1          -1        0  unknown   \n",
       "6         5      may       217         1          -1        0  unknown   \n",
       "7         5      may       380         1          -1        0  unknown   \n",
       "8         5      may        50         1          -1        0  unknown   \n",
       "9         5      may        55         1          -1        0  unknown   \n",
       "\n",
       "  是否購買定期存款  \n",
       "0       no  \n",
       "1       no  \n",
       "2       no  \n",
       "3       no  \n",
       "4       no  \n",
       "5       no  \n",
       "6       no  \n",
       "7       no  \n",
       "8       no  \n",
       "9       no  "
      ]
     },
     "execution_count": 39,
     "metadata": {},
     "output_type": "execute_result"
    }
   ],
   "source": [
    "df.head(10)"
   ]
  },
  {
   "cell_type": "code",
   "execution_count": 8,
   "id": "8814237a-6858-4e89-acbb-348ecd9f5bbe",
   "metadata": {},
   "outputs": [
    {
     "name": "stdout",
     "output_type": "stream",
     "text": [
      "<class 'pandas.core.frame.DataFrame'>\n",
      "RangeIndex: 45211 entries, 0 to 45210\n",
      "Data columns (total 17 columns):\n",
      " #   Column      Non-Null Count  Dtype \n",
      "---  ------      --------------  ----- \n",
      " 0   年齡          45211 non-null  int64 \n",
      " 1   職業          45211 non-null  object\n",
      " 2   婚姻          45211 non-null  object\n",
      " 3   學歷          45211 non-null  object\n",
      " 4   違約          45211 non-null  object\n",
      " 5   年平均餘額       45211 non-null  int64 \n",
      " 6   房屋貸款        45211 non-null  object\n",
      " 7   個人信貸        45211 non-null  object\n",
      " 8   聯絡方式        45211 non-null  object\n",
      " 9   最近一次聯絡星期    45211 non-null  int64 \n",
      " 10  最近一次聯絡月份    45211 non-null  object\n",
      " 11  最近一次聯絡秒數    45211 non-null  int64 \n",
      " 12  促銷期間聯絡次數    45211 non-null  int64 \n",
      " 13  上次促銷後_經過天數  45211 non-null  int64 \n",
      " 14  促銷前聯絡次數     45211 non-null  int64 \n",
      " 15  上次促銷結果      45211 non-null  object\n",
      " 16  是否購買定期存款    45211 non-null  object\n",
      "dtypes: int64(7), object(10)\n",
      "memory usage: 5.9+ MB\n"
     ]
    }
   ],
   "source": [
    "# 查看資料狀況\n",
    "df.info()"
   ]
  },
  {
   "cell_type": "code",
   "execution_count": 9,
   "id": "8e2b878d-c936-4714-92af-36beeac19368",
   "metadata": {},
   "outputs": [
    {
     "data": {
      "text/plain": [
       "是否購買定期存款\n",
       "no     0.883015\n",
       "yes    0.116985\n",
       "Name: count, dtype: float64"
      ]
     },
     "execution_count": 9,
     "metadata": {},
     "output_type": "execute_result"
    }
   ],
   "source": [
    "# target 比例\n",
    "(df['是否購買定期存款'].value_counts())/df.shape[0]"
   ]
  },
  {
   "cell_type": "code",
   "execution_count": 10,
   "id": "20838146-66ec-4c52-bcb8-6e0c33ff2b3b",
   "metadata": {},
   "outputs": [
    {
     "data": {
      "image/png": "[encoded data removed]",
      "text/plain": [
       "<Figure size 432x432 with 1 Axes>"
      ]
     },
     "metadata": {},
     "output_type": "display_data"
    }
   ],
   "source": [
    "# 繪圖查看\n",
    "plt.figure(figsize=(6,6))\n",
    "plt.pie(df['是否購買定期存款'].value_counts(),colors=['skyblue','pink'],autopct='%.2f%%',\n",
    "     explode=[0,0.1],startangle=20,labels=['失敗','成交'],textprops={'fontsize': 20})\n",
    "plt.title('是否購買定期存款',fontdict={'fontsize':20,'fontweight':'heavy'})\n",
    "plt.show()"
   ]
  },
  {
   "cell_type": "code",
   "execution_count": 11,
   "id": "8be4be4c-42ab-4963-bf5d-5bdb2a499eb8",
   "metadata": {},
   "outputs": [
    {
     "name": "stdout",
     "output_type": "stream",
     "text": [
      "二元分類:['違約', '房屋貸款', '個人信貸', '是否購買定期存款']\n",
      "多元分類:['職業', '婚姻', '學歷', '聯絡方式', '最近一次聯絡月份', '上次促銷結果']\n"
     ]
    }
   ],
   "source": [
    "# 非數值名單\n",
    "non_numeric=[i for i in df.columns if (df[i].dtype=='object')]\n",
    "binary_variable=[i for i in non_numeric if len(df[i].unique())==2]\n",
    "muticlass_variable=[i for i in non_numeric if len(df[i].unique())>2]\n",
    "print(f'二元分類:{binary_variable}\\n多元分類:{muticlass_variable}')"
   ]
  },
  {
   "cell_type": "code",
   "execution_count": 12,
   "id": "4e34570f-78f1-4946-b150-8dc2e49f4f09",
   "metadata": {},
   "outputs": [
    {
     "name": "stdout",
     "output_type": "stream",
     "text": [
      "違約 ['no' 'yes']\n",
      "房屋貸款 ['yes' 'no']\n",
      "個人信貸 ['no' 'yes']\n",
      "是否購買定期存款 ['no' 'yes']\n"
     ]
    }
   ],
   "source": [
    "# 確認變數值\n",
    "for i in binary_variable:\n",
    "    print(f'{i}',df[i].unique())"
   ]
  },
  {
   "cell_type": "code",
   "execution_count": 26,
   "id": "51923e7a-f9a5-4241-a6a5-9f6959f399e8",
   "metadata": {},
   "outputs": [
    {
     "data": {
      "text/html": [
       "<div>\n",
       "<style scoped>\n",
       "    .dataframe tbody tr th:only-of-type {\n",
       "        vertical-align: middle;\n",
       "    }\n",
       "\n",
       "    .dataframe tbody tr th {\n",
       "        vertical-align: top;\n",
       "    }\n",
       "\n",
       "    .dataframe thead th {\n",
       "        text-align: right;\n",
       "    }\n",
       "</style>\n",
       "<table border=\"1\" class=\"dataframe\">\n",
       "  <thead>\n",
       "    <tr style=\"text-align: right;\">\n",
       "      <th></th>\n",
       "      <th>年齡</th>\n",
       "      <th>職業</th>\n",
       "      <th>婚姻</th>\n",
       "      <th>學歷</th>\n",
       "      <th>違約</th>\n",
       "      <th>年平均餘額</th>\n",
       "      <th>房屋貸款</th>\n",
       "      <th>個人信貸</th>\n",
       "      <th>聯絡方式</th>\n",
       "      <th>最近一次聯絡星期</th>\n",
       "      <th>最近一次聯絡月份</th>\n",
       "      <th>最近一次聯絡秒數</th>\n",
       "      <th>促銷期間聯絡次數</th>\n",
       "      <th>上次促銷後_經過天數</th>\n",
       "      <th>促銷前聯絡次數</th>\n",
       "      <th>上次促銷結果</th>\n",
       "      <th>是否購買定期存款</th>\n",
       "    </tr>\n",
       "  </thead>\n",
       "  <tbody>\n",
       "    <tr>\n",
       "      <th>0</th>\n",
       "      <td>58</td>\n",
       "      <td>management</td>\n",
       "      <td>married</td>\n",
       "      <td>tertiary</td>\n",
       "      <td>0</td>\n",
       "      <td>2143</td>\n",
       "      <td>1</td>\n",
       "      <td>0</td>\n",
       "      <td>unknown</td>\n",
       "      <td>5</td>\n",
       "      <td>may</td>\n",
       "      <td>261</td>\n",
       "      <td>1</td>\n",
       "      <td>-1</td>\n",
       "      <td>0</td>\n",
       "      <td>unknown</td>\n",
       "      <td>0</td>\n",
       "    </tr>\n",
       "    <tr>\n",
       "      <th>1</th>\n",
       "      <td>44</td>\n",
       "      <td>technician</td>\n",
       "      <td>single</td>\n",
       "      <td>secondary</td>\n",
       "      <td>0</td>\n",
       "      <td>29</td>\n",
       "      <td>1</td>\n",
       "      <td>0</td>\n",
       "      <td>unknown</td>\n",
       "      <td>5</td>\n",
       "      <td>may</td>\n",
       "      <td>151</td>\n",
       "      <td>1</td>\n",
       "      <td>-1</td>\n",
       "      <td>0</td>\n",
       "      <td>unknown</td>\n",
       "      <td>0</td>\n",
       "    </tr>\n",
       "    <tr>\n",
       "      <th>2</th>\n",
       "      <td>33</td>\n",
       "      <td>entrepreneur</td>\n",
       "      <td>married</td>\n",
       "      <td>secondary</td>\n",
       "      <td>0</td>\n",
       "      <td>2</td>\n",
       "      <td>1</td>\n",
       "      <td>1</td>\n",
       "      <td>unknown</td>\n",
       "      <td>5</td>\n",
       "      <td>may</td>\n",
       "      <td>76</td>\n",
       "      <td>1</td>\n",
       "      <td>-1</td>\n",
       "      <td>0</td>\n",
       "      <td>unknown</td>\n",
       "      <td>0</td>\n",
       "    </tr>\n",
       "    <tr>\n",
       "      <th>3</th>\n",
       "      <td>47</td>\n",
       "      <td>blue-collar</td>\n",
       "      <td>married</td>\n",
       "      <td>unknown</td>\n",
       "      <td>0</td>\n",
       "      <td>1506</td>\n",
       "      <td>1</td>\n",
       "      <td>0</td>\n",
       "      <td>unknown</td>\n",
       "      <td>5</td>\n",
       "      <td>may</td>\n",
       "      <td>92</td>\n",
       "      <td>1</td>\n",
       "      <td>-1</td>\n",
       "      <td>0</td>\n",
       "      <td>unknown</td>\n",
       "      <td>0</td>\n",
       "    </tr>\n",
       "    <tr>\n",
       "      <th>4</th>\n",
       "      <td>33</td>\n",
       "      <td>unknown</td>\n",
       "      <td>single</td>\n",
       "      <td>unknown</td>\n",
       "      <td>0</td>\n",
       "      <td>1</td>\n",
       "      <td>0</td>\n",
       "      <td>0</td>\n",
       "      <td>unknown</td>\n",
       "      <td>5</td>\n",
       "      <td>may</td>\n",
       "      <td>198</td>\n",
       "      <td>1</td>\n",
       "      <td>-1</td>\n",
       "      <td>0</td>\n",
       "      <td>unknown</td>\n",
       "      <td>0</td>\n",
       "    </tr>\n",
       "  </tbody>\n",
       "</table>\n",
       "</div>"
      ],
      "text/plain": [
       "   年齡            職業       婚姻         學歷  違約  年平均餘額  房屋貸款  個人信貸     聯絡方式  \\\n",
       "0  58    management  married   tertiary   0   2143     1     0  unknown   \n",
       "1  44    technician   single  secondary   0     29     1     0  unknown   \n",
       "2  33  entrepreneur  married  secondary   0      2     1     1  unknown   \n",
       "3  47   blue-collar  married    unknown   0   1506     1     0  unknown   \n",
       "4  33       unknown   single    unknown   0      1     0     0  unknown   \n",
       "\n",
       "   最近一次聯絡星期 最近一次聯絡月份  最近一次聯絡秒數  促銷期間聯絡次數  上次促銷後_經過天數  促銷前聯絡次數   上次促銷結果  \\\n",
       "0         5      may       261         1          -1        0  unknown   \n",
       "1         5      may       151         1          -1        0  unknown   \n",
       "2         5      may        76         1          -1        0  unknown   \n",
       "3         5      may        92         1          -1        0  unknown   \n",
       "4         5      may       198         1          -1        0  unknown   \n",
       "\n",
       "   是否購買定期存款  \n",
       "0         0  \n",
       "1         0  \n",
       "2         0  \n",
       "3         0  \n",
       "4         0  "
      ]
     },
     "execution_count": 26,
     "metadata": {},
     "output_type": "execute_result"
    }
   ],
   "source": [
    "# 二元分類變數處裡\n",
    "for i in binary_variable:\n",
    "    df[i]=df[i].map({'yes':1,'no':0})\n",
    "df.head()"
   ]
  },
  {
   "cell_type": "code",
   "execution_count": 27,
   "id": "b97fbe25-d8e4-4215-acc6-10f5eb1af33b",
   "metadata": {
    "tags": []
   },
   "outputs": [
    {
     "data": {
      "text/html": [
       "<div>\n",
       "<style scoped>\n",
       "    .dataframe tbody tr th:only-of-type {\n",
       "        vertical-align: middle;\n",
       "    }\n",
       "\n",
       "    .dataframe tbody tr th {\n",
       "        vertical-align: top;\n",
       "    }\n",
       "\n",
       "    .dataframe thead th {\n",
       "        text-align: right;\n",
       "    }\n",
       "</style>\n",
       "<table border=\"1\" class=\"dataframe\">\n",
       "  <thead>\n",
       "    <tr style=\"text-align: right;\">\n",
       "      <th></th>\n",
       "      <th>年齡</th>\n",
       "      <th>職業</th>\n",
       "      <th>婚姻</th>\n",
       "      <th>學歷</th>\n",
       "      <th>違約</th>\n",
       "      <th>年平均餘額</th>\n",
       "      <th>房屋貸款</th>\n",
       "      <th>個人信貸</th>\n",
       "      <th>聯絡方式</th>\n",
       "      <th>最近一次聯絡星期</th>\n",
       "      <th>最近一次聯絡月份</th>\n",
       "      <th>最近一次聯絡秒數</th>\n",
       "      <th>促銷期間聯絡次數</th>\n",
       "      <th>上次促銷後_經過天數</th>\n",
       "      <th>促銷前聯絡次數</th>\n",
       "      <th>上次促銷結果</th>\n",
       "      <th>是否購買定期存款</th>\n",
       "    </tr>\n",
       "  </thead>\n",
       "  <tbody>\n",
       "    <tr>\n",
       "      <th>0</th>\n",
       "      <td>58</td>\n",
       "      <td>management</td>\n",
       "      <td>married</td>\n",
       "      <td>tertiary</td>\n",
       "      <td>0</td>\n",
       "      <td>2143</td>\n",
       "      <td>1</td>\n",
       "      <td>0</td>\n",
       "      <td>unknown</td>\n",
       "      <td>5</td>\n",
       "      <td>5</td>\n",
       "      <td>261</td>\n",
       "      <td>1</td>\n",
       "      <td>-1</td>\n",
       "      <td>0</td>\n",
       "      <td>unknown</td>\n",
       "      <td>0</td>\n",
       "    </tr>\n",
       "    <tr>\n",
       "      <th>1</th>\n",
       "      <td>44</td>\n",
       "      <td>technician</td>\n",
       "      <td>single</td>\n",
       "      <td>secondary</td>\n",
       "      <td>0</td>\n",
       "      <td>29</td>\n",
       "      <td>1</td>\n",
       "      <td>0</td>\n",
       "      <td>unknown</td>\n",
       "      <td>5</td>\n",
       "      <td>5</td>\n",
       "      <td>151</td>\n",
       "      <td>1</td>\n",
       "      <td>-1</td>\n",
       "      <td>0</td>\n",
       "      <td>unknown</td>\n",
       "      <td>0</td>\n",
       "    </tr>\n",
       "    <tr>\n",
       "      <th>2</th>\n",
       "      <td>33</td>\n",
       "      <td>entrepreneur</td>\n",
       "      <td>married</td>\n",
       "      <td>secondary</td>\n",
       "      <td>0</td>\n",
       "      <td>2</td>\n",
       "      <td>1</td>\n",
       "      <td>1</td>\n",
       "      <td>unknown</td>\n",
       "      <td>5</td>\n",
       "      <td>5</td>\n",
       "      <td>76</td>\n",
       "      <td>1</td>\n",
       "      <td>-1</td>\n",
       "      <td>0</td>\n",
       "      <td>unknown</td>\n",
       "      <td>0</td>\n",
       "    </tr>\n",
       "    <tr>\n",
       "      <th>3</th>\n",
       "      <td>47</td>\n",
       "      <td>blue-collar</td>\n",
       "      <td>married</td>\n",
       "      <td>unknown</td>\n",
       "      <td>0</td>\n",
       "      <td>1506</td>\n",
       "      <td>1</td>\n",
       "      <td>0</td>\n",
       "      <td>unknown</td>\n",
       "      <td>5</td>\n",
       "      <td>5</td>\n",
       "      <td>92</td>\n",
       "      <td>1</td>\n",
       "      <td>-1</td>\n",
       "      <td>0</td>\n",
       "      <td>unknown</td>\n",
       "      <td>0</td>\n",
       "    </tr>\n",
       "    <tr>\n",
       "      <th>4</th>\n",
       "      <td>33</td>\n",
       "      <td>unknown</td>\n",
       "      <td>single</td>\n",
       "      <td>unknown</td>\n",
       "      <td>0</td>\n",
       "      <td>1</td>\n",
       "      <td>0</td>\n",
       "      <td>0</td>\n",
       "      <td>unknown</td>\n",
       "      <td>5</td>\n",
       "      <td>5</td>\n",
       "      <td>198</td>\n",
       "      <td>1</td>\n",
       "      <td>-1</td>\n",
       "      <td>0</td>\n",
       "      <td>unknown</td>\n",
       "      <td>0</td>\n",
       "    </tr>\n",
       "  </tbody>\n",
       "</table>\n",
       "</div>"
      ],
      "text/plain": [
       "   年齡            職業       婚姻         學歷  違約  年平均餘額  房屋貸款  個人信貸     聯絡方式  \\\n",
       "0  58    management  married   tertiary   0   2143     1     0  unknown   \n",
       "1  44    technician   single  secondary   0     29     1     0  unknown   \n",
       "2  33  entrepreneur  married  secondary   0      2     1     1  unknown   \n",
       "3  47   blue-collar  married    unknown   0   1506     1     0  unknown   \n",
       "4  33       unknown   single    unknown   0      1     0     0  unknown   \n",
       "\n",
       "   最近一次聯絡星期  最近一次聯絡月份  最近一次聯絡秒數  促銷期間聯絡次數  上次促銷後_經過天數  促銷前聯絡次數   上次促銷結果  \\\n",
       "0         5         5       261         1          -1        0  unknown   \n",
       "1         5         5       151         1          -1        0  unknown   \n",
       "2         5         5        76         1          -1        0  unknown   \n",
       "3         5         5        92         1          -1        0  unknown   \n",
       "4         5         5       198         1          -1        0  unknown   \n",
       "\n",
       "   是否購買定期存款  \n",
       "0         0  \n",
       "1         0  \n",
       "2         0  \n",
       "3         0  \n",
       "4         0  "
      ]
     },
     "execution_count": 27,
     "metadata": {},
     "output_type": "execute_result"
    }
   ],
   "source": [
    "# 月份轉數字\n",
    "month_dict={'jan':1,'feb':2,'mar':3,'apr':4,'may':5,'jun':6,\n",
    "            'jul':7,'aug':8,'sep':9,'oct':10,'nov':11,'dec':12}\n",
    "df['最近一次聯絡月份']=df['最近一次聯絡月份'].map(month_dict)\n",
    "df.head()"
   ]
  },
  {
   "cell_type": "code",
   "execution_count": 28,
   "id": "d00440fb-8136-4bd0-bc2e-af0c8de0afb6",
   "metadata": {},
   "outputs": [],
   "source": [
    "# 剩下的欄位直接OneHot\n",
    "df=pd.get_dummies(df,dtype=int)"
   ]
  },
  {
   "cell_type": "code",
   "execution_count": 29,
   "id": "77199091-367b-4ebd-b616-4bc4a8d0c5ac",
   "metadata": {},
   "outputs": [
    {
     "data": {
      "text/html": [
       "<div>\n",
       "<style scoped>\n",
       "    .dataframe tbody tr th:only-of-type {\n",
       "        vertical-align: middle;\n",
       "    }\n",
       "\n",
       "    .dataframe tbody tr th {\n",
       "        vertical-align: top;\n",
       "    }\n",
       "\n",
       "    .dataframe thead th {\n",
       "        text-align: right;\n",
       "    }\n",
       "</style>\n",
       "<table border=\"1\" class=\"dataframe\">\n",
       "  <thead>\n",
       "    <tr style=\"text-align: right;\">\n",
       "      <th></th>\n",
       "      <th>年齡</th>\n",
       "      <th>違約</th>\n",
       "      <th>年平均餘額</th>\n",
       "      <th>房屋貸款</th>\n",
       "      <th>個人信貸</th>\n",
       "      <th>最近一次聯絡星期</th>\n",
       "      <th>最近一次聯絡月份</th>\n",
       "      <th>最近一次聯絡秒數</th>\n",
       "      <th>促銷期間聯絡次數</th>\n",
       "      <th>上次促銷後_經過天數</th>\n",
       "      <th>...</th>\n",
       "      <th>學歷_secondary</th>\n",
       "      <th>學歷_tertiary</th>\n",
       "      <th>學歷_unknown</th>\n",
       "      <th>聯絡方式_cellular</th>\n",
       "      <th>聯絡方式_telephone</th>\n",
       "      <th>聯絡方式_unknown</th>\n",
       "      <th>上次促銷結果_failure</th>\n",
       "      <th>上次促銷結果_other</th>\n",
       "      <th>上次促銷結果_success</th>\n",
       "      <th>上次促銷結果_unknown</th>\n",
       "    </tr>\n",
       "  </thead>\n",
       "  <tbody>\n",
       "    <tr>\n",
       "      <th>0</th>\n",
       "      <td>58</td>\n",
       "      <td>0</td>\n",
       "      <td>2143</td>\n",
       "      <td>1</td>\n",
       "      <td>0</td>\n",
       "      <td>5</td>\n",
       "      <td>5</td>\n",
       "      <td>261</td>\n",
       "      <td>1</td>\n",
       "      <td>-1</td>\n",
       "      <td>...</td>\n",
       "      <td>0</td>\n",
       "      <td>1</td>\n",
       "      <td>0</td>\n",
       "      <td>0</td>\n",
       "      <td>0</td>\n",
       "      <td>1</td>\n",
       "      <td>0</td>\n",
       "      <td>0</td>\n",
       "      <td>0</td>\n",
       "      <td>1</td>\n",
       "    </tr>\n",
       "    <tr>\n",
       "      <th>1</th>\n",
       "      <td>44</td>\n",
       "      <td>0</td>\n",
       "      <td>29</td>\n",
       "      <td>1</td>\n",
       "      <td>0</td>\n",
       "      <td>5</td>\n",
       "      <td>5</td>\n",
       "      <td>151</td>\n",
       "      <td>1</td>\n",
       "      <td>-1</td>\n",
       "      <td>...</td>\n",
       "      <td>1</td>\n",
       "      <td>0</td>\n",
       "      <td>0</td>\n",
       "      <td>0</td>\n",
       "      <td>0</td>\n",
       "      <td>1</td>\n",
       "      <td>0</td>\n",
       "      <td>0</td>\n",
       "      <td>0</td>\n",
       "      <td>1</td>\n",
       "    </tr>\n",
       "    <tr>\n",
       "      <th>2</th>\n",
       "      <td>33</td>\n",
       "      <td>0</td>\n",
       "      <td>2</td>\n",
       "      <td>1</td>\n",
       "      <td>1</td>\n",
       "      <td>5</td>\n",
       "      <td>5</td>\n",
       "      <td>76</td>\n",
       "      <td>1</td>\n",
       "      <td>-1</td>\n",
       "      <td>...</td>\n",
       "      <td>1</td>\n",
       "      <td>0</td>\n",
       "      <td>0</td>\n",
       "      <td>0</td>\n",
       "      <td>0</td>\n",
       "      <td>1</td>\n",
       "      <td>0</td>\n",
       "      <td>0</td>\n",
       "      <td>0</td>\n",
       "      <td>1</td>\n",
       "    </tr>\n",
       "    <tr>\n",
       "      <th>3</th>\n",
       "      <td>47</td>\n",
       "      <td>0</td>\n",
       "      <td>1506</td>\n",
       "      <td>1</td>\n",
       "      <td>0</td>\n",
       "      <td>5</td>\n",
       "      <td>5</td>\n",
       "      <td>92</td>\n",
       "      <td>1</td>\n",
       "      <td>-1</td>\n",
       "      <td>...</td>\n",
       "      <td>0</td>\n",
       "      <td>0</td>\n",
       "      <td>1</td>\n",
       "      <td>0</td>\n",
       "      <td>0</td>\n",
       "      <td>1</td>\n",
       "      <td>0</td>\n",
       "      <td>0</td>\n",
       "      <td>0</td>\n",
       "      <td>1</td>\n",
       "    </tr>\n",
       "    <tr>\n",
       "      <th>4</th>\n",
       "      <td>33</td>\n",
       "      <td>0</td>\n",
       "      <td>1</td>\n",
       "      <td>0</td>\n",
       "      <td>0</td>\n",
       "      <td>5</td>\n",
       "      <td>5</td>\n",
       "      <td>198</td>\n",
       "      <td>1</td>\n",
       "      <td>-1</td>\n",
       "      <td>...</td>\n",
       "      <td>0</td>\n",
       "      <td>0</td>\n",
       "      <td>1</td>\n",
       "      <td>0</td>\n",
       "      <td>0</td>\n",
       "      <td>1</td>\n",
       "      <td>0</td>\n",
       "      <td>0</td>\n",
       "      <td>0</td>\n",
       "      <td>1</td>\n",
       "    </tr>\n",
       "  </tbody>\n",
       "</table>\n",
       "<p>5 rows × 38 columns</p>\n",
       "</div>"
      ],
      "text/plain": [
       "   年齡  違約  年平均餘額  房屋貸款  個人信貸  最近一次聯絡星期  最近一次聯絡月份  最近一次聯絡秒數  促銷期間聯絡次數  \\\n",
       "0  58   0   2143     1     0         5         5       261         1   \n",
       "1  44   0     29     1     0         5         5       151         1   \n",
       "2  33   0      2     1     1         5         5        76         1   \n",
       "3  47   0   1506     1     0         5         5        92         1   \n",
       "4  33   0      1     0     0         5         5       198         1   \n",
       "\n",
       "   上次促銷後_經過天數  ...  學歷_secondary  學歷_tertiary  學歷_unknown  聯絡方式_cellular  \\\n",
       "0          -1  ...             0            1           0              0   \n",
       "1          -1  ...             1            0           0              0   \n",
       "2          -1  ...             1            0           0              0   \n",
       "3          -1  ...             0            0           1              0   \n",
       "4          -1  ...             0            0           1              0   \n",
       "\n",
       "   聯絡方式_telephone  聯絡方式_unknown  上次促銷結果_failure  上次促銷結果_other  上次促銷結果_success  \\\n",
       "0               0             1               0             0               0   \n",
       "1               0             1               0             0               0   \n",
       "2               0             1               0             0               0   \n",
       "3               0             1               0             0               0   \n",
       "4               0             1               0             0               0   \n",
       "\n",
       "   上次促銷結果_unknown  \n",
       "0               1  \n",
       "1               1  \n",
       "2               1  \n",
       "3               1  \n",
       "4               1  \n",
       "\n",
       "[5 rows x 38 columns]"
      ]
     },
     "execution_count": 29,
     "metadata": {},
     "output_type": "execute_result"
    }
   ],
   "source": [
    "df.head()"
   ]
  },
  {
   "cell_type": "code",
   "execution_count": 30,
   "id": "8d023373-1f00-45e3-b8e0-659aee5bc1bd",
   "metadata": {},
   "outputs": [],
   "source": [
    "# 分割資料,轉array\n",
    "Y=df['是否購買定期存款'].values\n",
    "X=df.drop(['是否購買定期存款'],axis=1).values"
   ]
  },
  {
   "cell_type": "code",
   "execution_count": 31,
   "id": "d2a523bd-52a9-4b0a-9d9c-4ba919574311",
   "metadata": {},
   "outputs": [],
   "source": [
    "# 訓練:測試=6:4\n",
    "from sklearn.model_selection import train_test_split\n",
    "x_train,x_test,y_train,y_test=train_test_split(X,Y,random_state=1,stratify=Y,test_size=0.4)"
   ]
  },
  {
   "cell_type": "code",
   "execution_count": 32,
   "id": "fdcf679f-75fb-469d-a0a9-ca6555f0be4a",
   "metadata": {},
   "outputs": [],
   "source": [
    "# 演算法\n",
    "# 邏輯斯回歸\n",
    "from sklearn.linear_model import LogisticRegression\n",
    "algorithm1=LogisticRegression(random_state=1)\n",
    "\n",
    "# 決策樹\n",
    "from sklearn.tree import DecisionTreeClassifier\n",
    "algorithm2=DecisionTreeClassifier(random_state=1)\n",
    "\n",
    "# 隨機森林\n",
    "from sklearn.ensemble import RandomForestClassifier\n",
    "algorithm3=RandomForestClassifier(random_state=1)\n",
    "\n",
    "# XGBoost\n",
    "from xgboost import XGBClassifier\n",
    "algorithm4=XGBClassifier(random_state=1)\n",
    "\n",
    "algorithm_list=[algorithm1,algorithm2,algorithm3,algorithm4]"
   ]
  },
  {
   "cell_type": "code",
   "execution_count": 34,
   "id": "d9c984fa-514d-42d3-b0fd-991a39c87bca",
   "metadata": {},
   "outputs": [
    {
     "name": "stderr",
     "output_type": "stream",
     "text": [
      "C:\\Users\\ininl\\AppData\\Local\\Programs\\Python\\Python39\\lib\\site-packages\\sklearn\\linear_model\\_logistic.py:460: ConvergenceWarning: lbfgs failed to converge (status=1):\n",
      "STOP: TOTAL NO. of ITERATIONS REACHED LIMIT.\n",
      "\n",
      "Increase the number of iterations (max_iter) or scale the data as shown in:\n",
      "    https://scikit-learn.org/stable/modules/preprocessing.html\n",
      "Please also refer to the documentation for alternative solver options:\n",
      "    https://scikit-learn.org/stable/modules/linear_model.html#logistic-regression\n",
      "  n_iter_i = _check_optimize_result(\n",
      "C:\\Users\\ininl\\AppData\\Local\\Programs\\Python\\Python39\\lib\\site-packages\\sklearn\\linear_model\\_logistic.py:460: ConvergenceWarning: lbfgs failed to converge (status=1):\n",
      "STOP: TOTAL NO. of ITERATIONS REACHED LIMIT.\n",
      "\n",
      "Increase the number of iterations (max_iter) or scale the data as shown in:\n",
      "    https://scikit-learn.org/stable/modules/preprocessing.html\n",
      "Please also refer to the documentation for alternative solver options:\n",
      "    https://scikit-learn.org/stable/modules/linear_model.html#logistic-regression\n",
      "  n_iter_i = _check_optimize_result(\n",
      "C:\\Users\\ininl\\AppData\\Local\\Programs\\Python\\Python39\\lib\\site-packages\\sklearn\\linear_model\\_logistic.py:460: ConvergenceWarning: lbfgs failed to converge (status=1):\n",
      "STOP: TOTAL NO. of ITERATIONS REACHED LIMIT.\n",
      "\n",
      "Increase the number of iterations (max_iter) or scale the data as shown in:\n",
      "    https://scikit-learn.org/stable/modules/preprocessing.html\n",
      "Please also refer to the documentation for alternative solver options:\n",
      "    https://scikit-learn.org/stable/modules/linear_model.html#logistic-regression\n",
      "  n_iter_i = _check_optimize_result(\n",
      "C:\\Users\\ininl\\AppData\\Local\\Programs\\Python\\Python39\\lib\\site-packages\\sklearn\\linear_model\\_logistic.py:460: ConvergenceWarning: lbfgs failed to converge (status=1):\n",
      "STOP: TOTAL NO. of ITERATIONS REACHED LIMIT.\n",
      "\n",
      "Increase the number of iterations (max_iter) or scale the data as shown in:\n",
      "    https://scikit-learn.org/stable/modules/preprocessing.html\n",
      "Please also refer to the documentation for alternative solver options:\n",
      "    https://scikit-learn.org/stable/modules/linear_model.html#logistic-regression\n",
      "  n_iter_i = _check_optimize_result(\n"
     ]
    },
    {
     "name": "stdout",
     "output_type": "stream",
     "text": [
      "平均分數:0.8381 個別分數:[0.84647179 0.83241672 0.83100585 0.84252406] LogisticRegression\n",
      "平均分數:0.7070 個別分數:[0.70862933 0.69382194 0.7242104  0.70117779] DecisionTreeClassifier\n",
      "平均分數:0.9248 個別分數:[0.92554256 0.92320651 0.92318938 0.927275  ] RandomForestClassifier\n",
      "平均分數:0.9283 個別分數:[0.92821034 0.92808118 0.92641588 0.93056236] XGBClassifier\n"
     ]
    }
   ],
   "source": [
    "# 使用交叉驗證\n",
    "# 資料不平均,於是選用auc作為評分標準\n",
    "from sklearn.model_selection import StratifiedKFold\n",
    "stratifiled=StratifiedKFold(n_splits=4)\n",
    "from sklearn.model_selection import cross_val_score\n",
    "\n",
    "for algorithm in algorithm_list:\n",
    "    scores=cross_val_score(algorithm,x_train,y_train,cv=stratifiled,scoring='roc_auc')\n",
    "    print(f'平均分數:{scores.mean():.4f} 個別分數:{scores} {algorithm.__class__.__name__}')"
   ]
  },
  {
   "cell_type": "code",
   "execution_count": 35,
   "id": "fd63b15e-2f54-4681-be52-d2a567ebe9d0",
   "metadata": {},
   "outputs": [],
   "source": [
    "# 選用分數的高XGBoost的繼續開發訓練\n",
    "algorithm=XGBClassifier(random_state=1)\n",
    "algorithm.fit(x_train,y_train)\n",
    "y_pre=algorithm.predict(x_test)"
   ]
  },
  {
   "cell_type": "code",
   "execution_count": 36,
   "id": "36545eb5-f04d-4b98-b26e-28a9aabdc700",
   "metadata": {
    "tags": []
   },
   "outputs": [
    {
     "name": "stdout",
     "output_type": "stream",
     "text": [
      "精確性:0.6157  召回率:0.4853  F分數:0.5428\n",
      "\n"
     ]
    },
    {
     "data": {
      "text/html": [
       "<div>\n",
       "<style scoped>\n",
       "    .dataframe tbody tr th:only-of-type {\n",
       "        vertical-align: middle;\n",
       "    }\n",
       "\n",
       "    .dataframe tbody tr th {\n",
       "        vertical-align: top;\n",
       "    }\n",
       "\n",
       "    .dataframe thead tr th {\n",
       "        text-align: left;\n",
       "    }\n",
       "</style>\n",
       "<table border=\"1\" class=\"dataframe\">\n",
       "  <thead>\n",
       "    <tr>\n",
       "      <th></th>\n",
       "      <th></th>\n",
       "      <th colspan=\"2\" halign=\"left\">預測分類</th>\n",
       "    </tr>\n",
       "    <tr>\n",
       "      <th></th>\n",
       "      <th></th>\n",
       "      <th>失敗</th>\n",
       "      <th>成功</th>\n",
       "    </tr>\n",
       "  </thead>\n",
       "  <tbody>\n",
       "    <tr>\n",
       "      <th rowspan=\"2\" valign=\"top\">實際分類</th>\n",
       "      <th>失敗</th>\n",
       "      <td>15328</td>\n",
       "      <td>641</td>\n",
       "    </tr>\n",
       "    <tr>\n",
       "      <th>成功</th>\n",
       "      <td>1089</td>\n",
       "      <td>1027</td>\n",
       "    </tr>\n",
       "  </tbody>\n",
       "</table>\n",
       "</div>"
      ],
      "text/plain": [
       "          預測分類      \n",
       "            失敗    成功\n",
       "實際分類 失敗  15328   641\n",
       "     成功   1089  1027"
      ]
     },
     "execution_count": 36,
     "metadata": {},
     "output_type": "execute_result"
    }
   ],
   "source": [
    "# 顯示混淆矩陣與各項指標\n",
    "from sklearn.metrics import confusion_matrix\n",
    "matrix=confusion_matrix(y_test,y_pre)\n",
    "df_matrix=pd.DataFrame(matrix,index=[['實際分類']*2,['失敗','成功']],columns=[['預測分類']*2,['失敗','成功']])\n",
    "\n",
    "from sklearn.metrics import precision_recall_fscore_support\n",
    "precision,recall,fscore,_=precision_recall_fscore_support(y_test,y_pre,average='binary')\n",
    "print(f'精確性:{precision:.4f}  召回率:{recall:.4f}  F分數:{fscore:.4f}')\n",
    "print()\n",
    "df_matrix\n"
   ]
  },
  {
   "cell_type": "raw",
   "id": "a879f5c8-210b-49e9-bb74-2e581032fd94",
   "metadata": {},
   "source": [
    "一開始的隨機銷售，成功率:11.7%,目前此模型推薦的銷售名單(精確性)，成功率:61.57%\n",
    "此模型讓成功率提高了約5倍\n",
    "改進:對於召回率還是不高，試著讓模型能從1089人(預測失敗，但實際試成功的人)內多召回一點"
   ]
  },
  {
   "cell_type": "code",
   "execution_count": 24,
   "id": "71fab830-d3c2-443d-8da8-2bf39ea1f1cd",
   "metadata": {},
   "outputs": [
    {
     "data": {
      "image/png": "[encoded data removed]",
      "text/plain": [
       "<Figure size 576x576 with 1 Axes>"
      ]
     },
     "metadata": {
      "needs_background": "light"
     },
     "output_type": "display_data"
    }
   ],
   "source": [
    "# 降低閾值,提高召回率\n",
    "# 取得機率值\n",
    "y_proba1=algorithm.predict_proba(x_test)[:,1]\n",
    "\n",
    "# 將target 區分開\n",
    "y0=y_proba1[y_test==0]\n",
    "y1=y_proba1[y_test==1]\n",
    "\n",
    "# 繪圖\n",
    "plt.figure(figsize=(8,8))\n",
    "sns.histplot(data=y0,color='k',label='失敗',bins=50,stat='percent')\n",
    "sns.histplot(y1,color='b',label='成功',bins=50,stat='percent')\n",
    "ax=plt.gca()\n",
    "ax.axvline(0.5)\n",
    "ax.axvline(0.3)\n",
    "\n",
    "plt.ylim([0,25])\n",
    "plt.title('機率值的次數分布圖')\n",
    "plt.xlabel('機率值')\n",
    "plt.legend()\n",
    "plt.show()"
   ]
  },
  {
   "cell_type": "code",
   "execution_count": 25,
   "id": "1e0ae9fe-f862-43f6-959b-ecdf0cd730f1",
   "metadata": {},
   "outputs": [],
   "source": [
    "def pred(algorithm,x,thres):\n",
    "    y_proba1=algorithm.predict_proba(x)[:,1]\n",
    "    y_pred=(y_proba1>thres).astype(int)\n",
    "    return y_pred    "
   ]
  },
  {
   "cell_type": "code",
   "execution_count": 26,
   "id": "7bf5fa18-fe9e-40d3-b867-f12ed7ca105b",
   "metadata": {},
   "outputs": [
    {
     "name": "stdout",
     "output_type": "stream",
     "text": [
      "閾值:0.50 成功預測數:1668 精確性:0.6157    召回率:0.4853 F分數:0.5428\n",
      "閾值:0.45 成功預測數:1902 精確性:0.5994    召回率:0.5388 F分數:0.5674\n",
      "閾值:0.40 成功預測數:2118 精確性:0.5859    召回率:0.5865 F分數:0.5862\n",
      "閾值:0.35 成功預測數:2351 精確性:0.5738    召回率:0.6375 F分數:0.6040\n",
      "閾值:0.30 成功預測數:2630 精確性:0.5468    召回率:0.6796 F分數:0.6060\n",
      "閾值:0.25 成功預測數:2925 精確性:0.5244    召回率:0.7250 F分數:0.6086\n",
      "閾值:0.20 成功預測數:3281 精確性:0.5002    召回率:0.7755 F分數:0.6081\n",
      "閾值:0.15 成功預測數:3708 精確性:0.4682    召回率:0.8204 F分數:0.5962\n",
      "閾值:0.10 成功預測數:4331 精確性:0.4267    召回率:0.8733 F分數:0.5733\n",
      "閾值:0.05 成功預測數:5462 精確性:0.3603    召回率:0.9301 F分數:0.5194\n"
     ]
    }
   ],
   "source": [
    "thres_list=np.arange(0.5,0,-0.05)\n",
    "for thres in thres_list:\n",
    "    y_pred=pred(algorithm,x_test,thres)\n",
    "    pred_sum=y_pred.sum()\n",
    "    precision,recall,fscore,_=precision_recall_fscore_support(y_test,y_pred,\n",
    "                                                              average='binary')\n",
    "    print(f'閾值:{thres:.2f} 成功預測數:{pred_sum} 精確性:{precision:.4f}\\\n",
    "    召回率:{recall:.4f} F分數:{fscore:.4f}')"
   ]
  },
  {
   "cell_type": "code",
   "execution_count": 27,
   "id": "e29106c0-3e97-48b8-bb7a-684f912defaa",
   "metadata": {},
   "outputs": [
    {
     "name": "stdout",
     "output_type": "stream",
     "text": [
      "精確性:0.5244 召回率:0.7250 F分數:0.6086\n",
      "\n"
     ]
    },
    {
     "data": {
      "text/html": [
       "<div>\n",
       "<style scoped>\n",
       "    .dataframe tbody tr th:only-of-type {\n",
       "        vertical-align: middle;\n",
       "    }\n",
       "\n",
       "    .dataframe tbody tr th {\n",
       "        vertical-align: top;\n",
       "    }\n",
       "\n",
       "    .dataframe thead tr th {\n",
       "        text-align: left;\n",
       "    }\n",
       "</style>\n",
       "<table border=\"1\" class=\"dataframe\">\n",
       "  <thead>\n",
       "    <tr>\n",
       "      <th></th>\n",
       "      <th></th>\n",
       "      <th colspan=\"2\" halign=\"left\">預測分類</th>\n",
       "    </tr>\n",
       "    <tr>\n",
       "      <th></th>\n",
       "      <th></th>\n",
       "      <th>失敗</th>\n",
       "      <th>成功</th>\n",
       "    </tr>\n",
       "  </thead>\n",
       "  <tbody>\n",
       "    <tr>\n",
       "      <th rowspan=\"2\" valign=\"top\">實際分類</th>\n",
       "      <th>失敗</th>\n",
       "      <td>14578</td>\n",
       "      <td>1391</td>\n",
       "    </tr>\n",
       "    <tr>\n",
       "      <th>成功</th>\n",
       "      <td>582</td>\n",
       "      <td>1534</td>\n",
       "    </tr>\n",
       "  </tbody>\n",
       "</table>\n",
       "</div>"
      ],
      "text/plain": [
       "          預測分類      \n",
       "            失敗    成功\n",
       "實際分類 失敗  14578  1391\n",
       "     成功    582  1534"
      ]
     },
     "execution_count": 27,
     "metadata": {},
     "output_type": "execute_result"
    }
   ],
   "source": [
    "# 以F分數最高的閾值(0.25),重新產生混淆矩陣\n",
    "y_finall=pred(algorithm,x_test,0.25)\n",
    "finall_matrix=confusion_matrix(y_test,y_finall)\n",
    "df_matrix=pd.DataFrame(finall_matrix,index=[['實際分類']*2,['失敗','成功']],columns=[['預測分類']*2,['失敗','成功']])\n",
    "precision,recall,fscore,_=precision_recall_fscore_support(y_test,y_finall,average='binary')\n",
    "print(f'精確性:{precision:.4f} 召回率:{recall:.4f} F分數:{fscore:.4f}')\n",
    "print()\n",
    "df_matrix"
   ]
  },
  {
   "cell_type": "raw",
   "id": "32d42a0f-6c29-48d0-b550-53406ef6215c",
   "metadata": {},
   "source": [
    "相較一開始,召回率從48.5%大幅提高至72.5%,雖然精確性從61.5%下降至52.4%,但幅度尚可接受\n",
    "而遺漏的成功銷售客戶從1089下降至582"
   ]
  },
  {
   "cell_type": "code",
   "execution_count": 28,
   "id": "7af8ab7e-2601-4d03-9b17-efc4afd4d2fa",
   "metadata": {},
   "outputs": [
    {
     "data": {
      "image/png": "[encoded data removed]",
      "text/plain": [
       "<Figure size 576x576 with 1 Axes>"
      ]
     },
     "metadata": {
      "needs_background": "light"
     },
     "output_type": "display_data"
    }
   ],
   "source": [
    "# 前10個重要特徵\n",
    "importances=algorithm.feature_importances_\n",
    "w=pd.Series(importances,index=df.drop(['是否購買定期存款'],axis=1).columns)\n",
    "u=w.sort_values(ascending=False)\n",
    "v=u[:10]\n",
    "\n",
    "# 繪圖\n",
    "plt.figure(figsize=(8,8))\n",
    "plt.title('輸入項目的重要性',fontsize=20,fontweight='heavy')\n",
    "plt.bar(range(len(v)),v)\n",
    "plt.xticks(range(len(v)),v.index,rotation=90,fontsize=15)\n",
    "plt.show()"
   ]
  },
  {
   "cell_type": "code",
   "execution_count": 29,
   "id": "8f57ed1b-9e33-48a6-837b-10827c525085",
   "metadata": {
    "tags": []
   },
   "outputs": [
    {
     "data": {
      "image/png": "[encoded data removed]",
      "text/plain": [
       "<Figure size 432x288 with 1 Axes>"
      ]
     },
     "metadata": {
      "needs_background": "light"
     },
     "output_type": "display_data"
    }
   ],
   "source": [
    "# 上次促銷結果_success看影響\n",
    "X_test=pd.DataFrame(x_test,columns=df.drop(['是否購買定期存款'],axis=1).columns)\n",
    "sns.histplot(X_test[y_test==1]['上次促銷結果_success'],bins=5,color='b',label='成功',stat='percent')\n",
    "sns.histplot(X_test[y_test==0]['上次促銷結果_success'],bins=5,color='k',label='失敗',stat='percent')\n",
    "plt.legend()\n",
    "plt.show()"
   ]
  },
  {
   "cell_type": "raw",
   "id": "299af813-0f1c-41fa-ab61-7b580271c19b",
   "metadata": {},
   "source": [
    "就上圖而言,右邊直方圖成功高於失敗,顯示欄位;上次促銷結果_success,對模型有正面的影響\n",
    "也就是說上次促銷結果_success是成功的，促銷成功的機會也高"
   ]
  },
  {
   "cell_type": "code",
   "execution_count": 30,
   "id": "b5a74e65-5a6f-42e3-be11-11b6e2d0807f",
   "metadata": {},
   "outputs": [
    {
     "data": {
      "image/png": "[encoded data removed]",
      "text/plain": [
       "<Figure size 432x288 with 1 Axes>"
      ]
     },
     "metadata": {
      "needs_background": "light"
     },
     "output_type": "display_data"
    }
   ],
   "source": [
    "# 上次促銷結果_unknown  看影響\n",
    "X_test=pd.DataFrame(x_test,columns=df.drop(['是否購買定期存款'],axis=1).columns)\n",
    "sns.histplot(X_test[y_test==1]['上次促銷結果_unknown'],bins=5,color='b',label='成功',stat='percent')\n",
    "sns.histplot(X_test[y_test==0]['上次促銷結果_unknown'],bins=5,color='k',label='失敗',stat='percent')\n",
    "plt.legend()\n",
    "plt.show()"
   ]
  },
  {
   "cell_type": "raw",
   "id": "51aa6740-7732-47e1-aa90-03dcb2127998",
   "metadata": {},
   "source": [
    "就上圖而言,右邊直方圖失敗高於成功,顯示欄位;不知道上次促銷結果,對模型有負面的影響\n",
    "也就是說不知道上次促銷結果，促銷成功的機會不高"
   ]
  },
  {
   "cell_type": "code",
   "execution_count": 31,
   "id": "0c6c2ffc-a598-46ab-90ad-d9e1f81619f3",
   "metadata": {},
   "outputs": [
    {
     "data": {
      "image/png": "[encoded data removed]",
      "text/plain": [
       "<Figure size 576x576 with 1 Axes>"
      ]
     },
     "metadata": {
      "needs_background": "light"
     },
     "output_type": "display_data"
    }
   ],
   "source": [
    "# 查看通話時間\n",
    "X_test=pd.DataFrame(x_test,columns=df.drop(['是否購買定期存款'],axis=1).columns)\n",
    "plt.figure(figsize=(8,8))\n",
    "sns.histplot(X_test[y_test==1]['最近一次聯絡秒數'],bins=50,color='b',label='成功',stat='percent')\n",
    "sns.histplot(X_test[y_test==0]['最近一次聯絡秒數'],bins=50,color='k',label='失敗',stat='percent')\n",
    "plt.legend()\n",
    "plt.show()"
   ]
  },
  {
   "cell_type": "raw",
   "id": "362bad31-69e5-4eca-9e9f-a745754482d7",
   "metadata": {},
   "source": [
    "成功促銷的部分整體靠右,表示客戶更願意與業務溝通,因此通話時間越長的客戶,促銷成功的機會越高"
   ]
  },
  {
   "cell_type": "code",
   "execution_count": 32,
   "id": "6825c1e3-2389-492d-b810-458e915d6a1c",
   "metadata": {},
   "outputs": [
    {
     "data": {
      "image/png": "[encoded data removed]",
      "text/plain": [
       "<Figure size 432x288 with 1 Axes>"
      ]
     },
     "metadata": {
      "needs_background": "light"
     },
     "output_type": "display_data"
    }
   ],
   "source": [
    "# 查看聯絡方式_unknown\n",
    "X_test=pd.DataFrame(x_test,columns=df.drop(['是否購買定期存款'],axis=1).columns)\n",
    "sns.histplot(X_test[y_test==1]['聯絡方式_unknown'],bins=5,color='b',label='成功',stat='percent')\n",
    "sns.histplot(X_test[y_test==0]['聯絡方式_unknown'],bins=5,color='k',label='失敗',stat='percent')\n",
    "plt.legend()\n",
    "plt.show()"
   ]
  },
  {
   "cell_type": "raw",
   "id": "ebd34ed9-b872-4dc1-b8bd-a41d5f8581e6",
   "metadata": {},
   "source": [
    "就上圖而言,右邊直方圖失敗高於成功,顯示欄位;不知道聯絡方式,對模型有負面的影響"
   ]
  },
  {
   "cell_type": "code",
   "execution_count": 33,
   "id": "e55c50bc-2a36-4ab8-8a4a-12b3f47bcc1d",
   "metadata": {},
   "outputs": [
    {
     "data": {
      "image/png": "[encoded data removed]",
      "text/plain": [
       "<Figure size 576x576 with 1 Axes>"
      ]
     },
     "metadata": {
      "needs_background": "light"
     },
     "output_type": "display_data"
    }
   ],
   "source": [
    "# 查看房屋貸款 \n",
    "X_test=pd.DataFrame(x_test,columns=df.drop(['是否購買定期存款'],axis=1).columns)\n",
    "plt.figure(figsize=(8,8))\n",
    "sns.histplot(X_test[y_test==1]['房屋貸款'],bins=5,color='b',label='成功',stat='percent')\n",
    "sns.histplot(X_test[y_test==0]['房屋貸款'],bins=5,color='k',label='失敗',stat='percent')\n",
    "plt.legend()\n",
    "plt.show()"
   ]
  },
  {
   "cell_type": "code",
   "execution_count": 34,
   "id": "c4b0aa6d-37c3-44ec-aea9-601742b1ff1f",
   "metadata": {},
   "outputs": [
    {
     "data": {
      "image/png": "[encoded data removed]",
      "text/plain": [
       "<Figure size 576x576 with 1 Axes>"
      ]
     },
     "metadata": {
      "needs_background": "light"
     },
     "output_type": "display_data"
    }
   ],
   "source": [
    "# 查看最近一次聯絡月份 \n",
    "X_test=pd.DataFrame(x_test,columns=df.drop(['是否購買定期存款'],axis=1).columns)\n",
    "plt.figure(figsize=(8,8))\n",
    "sns.histplot(X_test[y_test==1]['最近一次聯絡月份'],bins=50,color='b',label='成功',stat='percent')\n",
    "sns.histplot(X_test[y_test==0]['最近一次聯絡月份'],bins=50,color='k',label='失敗',stat='percent')\n",
    "plt.xticks(list(range(0,13)))\n",
    "plt.legend()\n",
    "plt.show()"
   ]
  },
  {
   "cell_type": "raw",
   "id": "c6763d19-b3f1-4a16-8d55-c54a05fa58ed",
   "metadata": {},
   "source": [
    "可看出月份對於銷售的影響,其中五月的差異較明顯，推測可能與報稅季相關"
   ]
  },
  {
   "cell_type": "code",
   "execution_count": 35,
   "id": "7e8b513d-6ec0-460c-a7ba-1a7e6f08973a",
   "metadata": {},
   "outputs": [
    {
     "data": {
      "image/png": "[encoded data removed]",
      "text/plain": [
       "<Figure size 576x576 with 1 Axes>"
      ]
     },
     "metadata": {
      "needs_background": "light"
     },
     "output_type": "display_data"
    }
   ],
   "source": [
    "# 查看個人信貸\n",
    "X_test=pd.DataFrame(x_test,columns=df.drop(['是否購買定期存款'],axis=1).columns)\n",
    "plt.figure(figsize=(8,8))\n",
    "sns.histplot(X_test[y_test==1]['個人信貸'],bins=5,color='b',label='成功',stat='percent')\n",
    "sns.histplot(X_test[y_test==0]['個人信貸'],bins=5,color='k',label='失敗',stat='percent')\n",
    "plt.legend()\n",
    "plt.show()"
   ]
  },
  {
   "cell_type": "raw",
   "id": "f38696b5-6bc3-4721-98a7-76983a743c51",
   "metadata": {},
   "source": [
    "有貸款的人較不易推銷成功"
   ]
  },
  {
   "cell_type": "code",
   "execution_count": 36,
   "id": "6f0ea795-7ad3-4152-8d64-94c3d3b6b558",
   "metadata": {},
   "outputs": [
    {
     "data": {
      "image/png": "[encoded data removed]",
      "text/plain": [
       "<Figure size 720x720 with 1 Axes>"
      ]
     },
     "metadata": {
      "needs_background": "light"
     },
     "output_type": "display_data"
    }
   ],
   "source": [
    "# 查看上次促銷後_經過天數\n",
    "X_test=pd.DataFrame(x_test,columns=df.drop(['是否購買定期存款'],axis=1).columns)\n",
    "plt.figure(figsize=(10,10))\n",
    "sns.histplot(X_test[y_test==1]['上次促銷後_經過天數'],bins=50,color='b',label='成功',stat='percent')\n",
    "sns.histplot(X_test[y_test==0]['上次促銷後_經過天數'],bins=50,color='k',label='失敗',stat='percent')\n",
    "plt.ylim([0,10])\n",
    "plt.xticks(list(range(0,1000,100)))\n",
    "plt.legend()\n",
    "plt.show()"
   ]
  },
  {
   "cell_type": "raw",
   "id": "8cb04bea-8450-4f7e-9233-8c3d866d2be6",
   "metadata": {},
   "source": [
    "以圖觀察結果顯示,距離上次促銷約隔3個月或半年,成功機會較大"
   ]
  },
  {
   "cell_type": "code",
   "execution_count": 37,
   "id": "ba93e846-d156-40c9-bbbe-9f7d20c06e7e",
   "metadata": {},
   "outputs": [
    {
     "data": {
      "image/png": "[encoded data removed]",
      "text/plain": [
       "<Figure size 576x576 with 1 Axes>"
      ]
     },
     "metadata": {
      "needs_background": "light"
     },
     "output_type": "display_data"
    }
   ],
   "source": [
    "# 查看聯絡方式_telephone\n",
    "X_test=pd.DataFrame(x_test,columns=df.drop(['是否購買定期存款'],axis=1).columns)\n",
    "plt.figure(figsize=(8,8))\n",
    "sns.histplot(X_test[y_test==1]['聯絡方式_telephone'],bins=5,color='b',label='成功',stat='percent')\n",
    "sns.histplot(X_test[y_test==0]['聯絡方式_telephone'],bins=5,color='k',label='失敗',stat='percent')\n",
    "plt.legend()\n",
    "plt.show()"
   ]
  },
  {
   "cell_type": "code",
   "execution_count": 38,
   "id": "a71424bc-1c56-45f1-9a95-1dc8ab8f2fdc",
   "metadata": {},
   "outputs": [
    {
     "data": {
      "image/png": "[encoded data removed]",
      "text/plain": [
       "<Figure size 576x576 with 1 Axes>"
      ]
     },
     "metadata": {
      "needs_background": "light"
     },
     "output_type": "display_data"
    }
   ],
   "source": [
    "# 查看最近一次聯絡星期\n",
    "X_test=pd.DataFrame(x_test,columns=df.drop(['是否購買定期存款'],axis=1).columns)\n",
    "plt.figure(figsize=(8,8))\n",
    "sns.histplot(X_test[y_test==1]['最近一次聯絡星期'],bins=50,color='b',label='成功',stat='percent')\n",
    "sns.histplot(X_test[y_test==0]['最近一次聯絡星期'],bins=50,color='k',label='失敗',stat='percent')\n",
    "plt.legend()\n",
    "plt.show()"
   ]
  },
  {
   "cell_type": "code",
   "execution_count": 41,
   "id": "ac4d22b1-c09e-48fd-95b9-1eb2c51b2cb1",
   "metadata": {},
   "outputs": [],
   "source": [
    "# 匯出成功且測試名單\n",
    "# 因沒有會員資訊，以index假裝為客戶編號\n",
    "\n",
    "y_sucess=X_test[y_pre==1]\n",
    "df_sucess=pd.DataFrame({'客戶編號':y_sucess.index,\n",
    "                        '年齡':y_sucess['年齡']}).reset_index(drop=True)\n",
    "\n",
    "# 加入基本資訊\n",
    "career=y_sucess.columns[(y_sucess.columns.str.contains('職業.*'))]\n",
    "marriage=y_sucess.columns[(y_sucess.columns.str.contains('婚姻.*'))]\n",
    "education=y_sucess.columns[(y_sucess.columns.str.contains('學歷.*'))]\n",
    "poutcome=y_sucess.columns[(y_sucess.columns.str.contains('上次促銷結果.*'))]\n",
    "\n",
    "message_dict={'職業':career,'婚姻':marriage,'學歷':education,'上次促銷結果':poutcome}\n",
    "\n",
    "for name,lis in message_dict.items(): \n",
    "    df_lis=y_sucess[lis].stack().reset_index()\n",
    "    df_name=(df_lis[df_lis[0]==1]).reset_index(drop=True).drop(['level_0',0],axis=1)\n",
    "    df_sucess[name]=df_name\n",
    "    \n",
    "# 匯出Excel名單\n",
    "import openpyxl\n",
    "df_sucess.to_excel(\"./促銷客戶名單.xlsx\",index=False) "
   ]
  },
  {
   "cell_type": "code",
   "execution_count": 42,
   "id": "1d3e1f25-1b6e-47ae-b603-3b4a9db2083b",
   "metadata": {},
   "outputs": [
    {
     "data": {
      "text/plain": [
       "['./sales_forecast_XGmodel']"
      ]
     },
     "execution_count": 42,
     "metadata": {},
     "output_type": "execute_result"
    }
   ],
   "source": [
    "# 匯出模型\n",
    "import joblib\n",
    "joblib.dump(algorithm,'./sales_forecast_XGmodel')"
   ]
  },
  {
   "cell_type": "code",
   "execution_count": 49,
   "id": "b3c9a6b0-f50d-4457-b66f-d7ad33ad9d75",
   "metadata": {},
   "outputs": [
    {
     "data": {
      "text/plain": [
       "array([0])"
      ]
     },
     "execution_count": 49,
     "metadata": {},
     "output_type": "execute_result"
    }
   ],
   "source": [
    "# 測試\n",
    "sale_model=joblib.load('sales_forecast_XGmodel')\n",
    "result=sale_model.predict(x_test[30:31])\n",
    "result"
   ]
  },
  {
   "cell_type": "code",
   "execution_count": null,
   "id": "c66ce7ad-f5f8-47c5-8c1d-ee6fc27be2ce",
   "metadata": {},
   "outputs": [],
   "source": []
  }
 ],
 "metadata": {
  "kernelspec": {
   "display_name": "Python 3 (ipykernel)",
   "language": "python",
   "name": "python3"
  },
  "language_info": {
   "codemirror_mode": {
    "name": "ipython",
    "version": 3
   },
   "file_extension": ".py",
   "mimetype": "text/x-python",
   "name": "python",
   "nbconvert_exporter": "python",
   "pygments_lexer": "ipython3",
   "version": "3.9.11"
  }
 },
 "nbformat": 4,
 "nbformat_minor": 5
}
