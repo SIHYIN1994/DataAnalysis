{
 "cells": [
  {
   "cell_type": "code",
   "execution_count": 2,
   "id": "0a7bf882-fc4e-484e-a930-8d6a1294831f",
   "metadata": {},
   "outputs": [],
   "source": [
    "%matplotlib inline\n",
    "import numpy as np\n",
    "import pandas as pd\n",
    "import matplotlib.pyplot as plt"
   ]
  },
  {
   "cell_type": "code",
   "execution_count": 4,
   "id": "5a12a6d5-d59b-4e96-be8c-6d189d9d40b2",
   "metadata": {},
   "outputs": [],
   "source": [
    "pd.set_option('display.max_colwidth', None)"
   ]
  },
  {
   "cell_type": "code",
   "execution_count": 107,
   "id": "0803bc05-993f-48e5-a9a1-90364575700b",
   "metadata": {},
   "outputs": [
    {
     "data": {
      "text/plain": [
       "'1.26.1'"
      ]
     },
     "execution_count": 107,
     "metadata": {},
     "output_type": "execute_result"
    }
   ],
   "source": [
    "np.__version__"
   ]
  },
  {
   "cell_type": "code",
   "execution_count": 108,
   "id": "a470bbbe-a410-4fd6-8f67-d1635f07a97b",
   "metadata": {},
   "outputs": [
    {
     "data": {
      "text/plain": [
       "'2.1.1'"
      ]
     },
     "execution_count": 108,
     "metadata": {},
     "output_type": "execute_result"
    }
   ],
   "source": [
    "pd.__version__"
   ]
  },
  {
   "cell_type": "raw",
   "id": "7b96321e-b5a9-4e08-9d19-896fa32620c1",
   "metadata": {},
   "source": [
    "目標:預測共享單車出租數量\n",
    "效果:提供適合的單車數量,根據租借輛合理安排人力\n",
    "資料及UCI:共享單車資料集\n",
    "feature:'dteday', 'season', 'yr', 'mnth', 'holiday', 'weekday', 'workingday',\n",
    "  'weathersit', 'temp', 'atemp', 'hum', 'windspeed'\n",
    "**'temp', 'atemp', 'hum'有經過Normalized\n",
    "target:取總租借輛"
   ]
  },
  {
   "cell_type": "markdown",
   "id": "4dd5a45f-45ac-482b-9181-8a02dc2cbc42",
   "metadata": {},
   "source": [
    "資料來源:https://archive.ics.uci.edu/dataset/275/bike+sharing+dataset"
   ]
  },
  {
   "cell_type": "code",
   "execution_count": 5,
   "id": "64934ea9-7211-4fe9-95d6-d9677fecdcbb",
   "metadata": {
    "tags": []
   },
   "outputs": [
    {
     "data": {
      "text/html": [
       "<div>\n",
       "<style scoped>\n",
       "    .dataframe tbody tr th:only-of-type {\n",
       "        vertical-align: middle;\n",
       "    }\n",
       "\n",
       "    .dataframe tbody tr th {\n",
       "        vertical-align: top;\n",
       "    }\n",
       "\n",
       "    .dataframe thead th {\n",
       "        text-align: right;\n",
       "    }\n",
       "</style>\n",
       "<table border=\"1\" class=\"dataframe\">\n",
       "  <thead>\n",
       "    <tr style=\"text-align: right;\">\n",
       "      <th></th>\n",
       "      <th>name</th>\n",
       "      <th>role</th>\n",
       "      <th>type</th>\n",
       "      <th>demographic</th>\n",
       "      <th>description</th>\n",
       "      <th>units</th>\n",
       "      <th>missing_values</th>\n",
       "    </tr>\n",
       "  </thead>\n",
       "  <tbody>\n",
       "    <tr>\n",
       "      <th>0</th>\n",
       "      <td>instant</td>\n",
       "      <td>ID</td>\n",
       "      <td>Integer</td>\n",
       "      <td>None</td>\n",
       "      <td>record index</td>\n",
       "      <td>None</td>\n",
       "      <td>no</td>\n",
       "    </tr>\n",
       "    <tr>\n",
       "      <th>1</th>\n",
       "      <td>dteday</td>\n",
       "      <td>Feature</td>\n",
       "      <td>Date</td>\n",
       "      <td>None</td>\n",
       "      <td>date</td>\n",
       "      <td>None</td>\n",
       "      <td>no</td>\n",
       "    </tr>\n",
       "    <tr>\n",
       "      <th>2</th>\n",
       "      <td>season</td>\n",
       "      <td>Feature</td>\n",
       "      <td>Categorical</td>\n",
       "      <td>None</td>\n",
       "      <td>1:winter, 2:spring, 3:summer, 4:fall</td>\n",
       "      <td>None</td>\n",
       "      <td>no</td>\n",
       "    </tr>\n",
       "    <tr>\n",
       "      <th>3</th>\n",
       "      <td>yr</td>\n",
       "      <td>Feature</td>\n",
       "      <td>Categorical</td>\n",
       "      <td>None</td>\n",
       "      <td>year (0: 2011, 1: 2012)</td>\n",
       "      <td>None</td>\n",
       "      <td>no</td>\n",
       "    </tr>\n",
       "    <tr>\n",
       "      <th>4</th>\n",
       "      <td>mnth</td>\n",
       "      <td>Feature</td>\n",
       "      <td>Categorical</td>\n",
       "      <td>None</td>\n",
       "      <td>month (1 to 12)</td>\n",
       "      <td>None</td>\n",
       "      <td>no</td>\n",
       "    </tr>\n",
       "    <tr>\n",
       "      <th>5</th>\n",
       "      <td>hr</td>\n",
       "      <td>Feature</td>\n",
       "      <td>Categorical</td>\n",
       "      <td>None</td>\n",
       "      <td>hour (0 to 23)</td>\n",
       "      <td>None</td>\n",
       "      <td>no</td>\n",
       "    </tr>\n",
       "    <tr>\n",
       "      <th>6</th>\n",
       "      <td>holiday</td>\n",
       "      <td>Feature</td>\n",
       "      <td>Binary</td>\n",
       "      <td>None</td>\n",
       "      <td>weather day is holiday or not (extracted from http://dchr.dc.gov/page/holiday-schedule)</td>\n",
       "      <td>None</td>\n",
       "      <td>no</td>\n",
       "    </tr>\n",
       "    <tr>\n",
       "      <th>7</th>\n",
       "      <td>weekday</td>\n",
       "      <td>Feature</td>\n",
       "      <td>Categorical</td>\n",
       "      <td>None</td>\n",
       "      <td>day of the week</td>\n",
       "      <td>None</td>\n",
       "      <td>no</td>\n",
       "    </tr>\n",
       "    <tr>\n",
       "      <th>8</th>\n",
       "      <td>workingday</td>\n",
       "      <td>Feature</td>\n",
       "      <td>Binary</td>\n",
       "      <td>None</td>\n",
       "      <td>if day is neither weekend nor holiday is 1, otherwise is 0</td>\n",
       "      <td>None</td>\n",
       "      <td>no</td>\n",
       "    </tr>\n",
       "    <tr>\n",
       "      <th>9</th>\n",
       "      <td>weathersit</td>\n",
       "      <td>Feature</td>\n",
       "      <td>Categorical</td>\n",
       "      <td>None</td>\n",
       "      <td>- 1: Clear, Few clouds, Partly cloudy, Partly cloudy</td>\n",
       "      <td>None</td>\n",
       "      <td>no</td>\n",
       "    </tr>\n",
       "    <tr>\n",
       "      <th>10</th>\n",
       "      <td>temp</td>\n",
       "      <td>Feature</td>\n",
       "      <td>Continuous</td>\n",
       "      <td>None</td>\n",
       "      <td>Normalized temperature in Celsius. The values are derived via (t-t_min)/(t_max-t_min), t_min=-8, t_max=+39 (only in hourly scale)</td>\n",
       "      <td>C</td>\n",
       "      <td>no</td>\n",
       "    </tr>\n",
       "    <tr>\n",
       "      <th>11</th>\n",
       "      <td>atemp</td>\n",
       "      <td>Feature</td>\n",
       "      <td>Continuous</td>\n",
       "      <td>None</td>\n",
       "      <td>Normalized feeling temperature in Celsius. The values are derived via (t-t_min)/(t_max-t_min), t_min=-16, t_max=+50 (only in hourly scale)</td>\n",
       "      <td>C</td>\n",
       "      <td>no</td>\n",
       "    </tr>\n",
       "    <tr>\n",
       "      <th>12</th>\n",
       "      <td>hum</td>\n",
       "      <td>Feature</td>\n",
       "      <td>Continuous</td>\n",
       "      <td>None</td>\n",
       "      <td>Normalized humidity. The values are divided to 100 (max)</td>\n",
       "      <td>None</td>\n",
       "      <td>no</td>\n",
       "    </tr>\n",
       "    <tr>\n",
       "      <th>13</th>\n",
       "      <td>windspeed</td>\n",
       "      <td>Feature</td>\n",
       "      <td>Continuous</td>\n",
       "      <td>None</td>\n",
       "      <td>Normalized wind speed. The values are divided to 67 (max)</td>\n",
       "      <td>None</td>\n",
       "      <td>no</td>\n",
       "    </tr>\n",
       "    <tr>\n",
       "      <th>14</th>\n",
       "      <td>casual</td>\n",
       "      <td>Other</td>\n",
       "      <td>Integer</td>\n",
       "      <td>None</td>\n",
       "      <td>count of casual users</td>\n",
       "      <td>None</td>\n",
       "      <td>no</td>\n",
       "    </tr>\n",
       "    <tr>\n",
       "      <th>15</th>\n",
       "      <td>registered</td>\n",
       "      <td>Other</td>\n",
       "      <td>Integer</td>\n",
       "      <td>None</td>\n",
       "      <td>count of registered users</td>\n",
       "      <td>None</td>\n",
       "      <td>no</td>\n",
       "    </tr>\n",
       "    <tr>\n",
       "      <th>16</th>\n",
       "      <td>cnt</td>\n",
       "      <td>Target</td>\n",
       "      <td>Integer</td>\n",
       "      <td>None</td>\n",
       "      <td>count of total rental bikes including both casual and registered</td>\n",
       "      <td>None</td>\n",
       "      <td>no</td>\n",
       "    </tr>\n",
       "  </tbody>\n",
       "</table>\n",
       "</div>"
      ],
      "text/plain": [
       "          name     role         type demographic  \\\n",
       "0      instant       ID      Integer        None   \n",
       "1       dteday  Feature         Date        None   \n",
       "2       season  Feature  Categorical        None   \n",
       "3           yr  Feature  Categorical        None   \n",
       "4         mnth  Feature  Categorical        None   \n",
       "5           hr  Feature  Categorical        None   \n",
       "6      holiday  Feature       Binary        None   \n",
       "7      weekday  Feature  Categorical        None   \n",
       "8   workingday  Feature       Binary        None   \n",
       "9   weathersit  Feature  Categorical        None   \n",
       "10        temp  Feature   Continuous        None   \n",
       "11       atemp  Feature   Continuous        None   \n",
       "12         hum  Feature   Continuous        None   \n",
       "13   windspeed  Feature   Continuous        None   \n",
       "14      casual    Other      Integer        None   \n",
       "15  registered    Other      Integer        None   \n",
       "16         cnt   Target      Integer        None   \n",
       "\n",
       "                                                                                                                                   description  \\\n",
       "0                                                                                                                                 record index   \n",
       "1                                                                                                                                         date   \n",
       "2                                                                                                         1:winter, 2:spring, 3:summer, 4:fall   \n",
       "3                                                                                                                      year (0: 2011, 1: 2012)   \n",
       "4                                                                                                                              month (1 to 12)   \n",
       "5                                                                                                                               hour (0 to 23)   \n",
       "6                                                      weather day is holiday or not (extracted from http://dchr.dc.gov/page/holiday-schedule)   \n",
       "7                                                                                                                              day of the week   \n",
       "8                                                                                   if day is neither weekend nor holiday is 1, otherwise is 0   \n",
       "9                                                                                         - 1: Clear, Few clouds, Partly cloudy, Partly cloudy   \n",
       "10           Normalized temperature in Celsius. The values are derived via (t-t_min)/(t_max-t_min), t_min=-8, t_max=+39 (only in hourly scale)   \n",
       "11  Normalized feeling temperature in Celsius. The values are derived via (t-t_min)/(t_max-t_min), t_min=-16, t_max=+50 (only in hourly scale)   \n",
       "12                                                                                    Normalized humidity. The values are divided to 100 (max)   \n",
       "13                                                                                   Normalized wind speed. The values are divided to 67 (max)   \n",
       "14                                                                                                                       count of casual users   \n",
       "15                                                                                                                   count of registered users   \n",
       "16                                                                            count of total rental bikes including both casual and registered   \n",
       "\n",
       "   units missing_values  \n",
       "0   None             no  \n",
       "1   None             no  \n",
       "2   None             no  \n",
       "3   None             no  \n",
       "4   None             no  \n",
       "5   None             no  \n",
       "6   None             no  \n",
       "7   None             no  \n",
       "8   None             no  \n",
       "9   None             no  \n",
       "10     C             no  \n",
       "11     C             no  \n",
       "12  None             no  \n",
       "13  None             no  \n",
       "14  None             no  \n",
       "15  None             no  \n",
       "16  None             no  "
      ]
     },
     "execution_count": 5,
     "metadata": {},
     "output_type": "execute_result"
    }
   ],
   "source": [
    "# 載入資料\n",
    "from ucimlrepo import fetch_ucirepo \n",
    "  \n",
    "# fetch dataset \n",
    "bike_sharing = fetch_ucirepo(id=275) \n",
    "  \n",
    "# data (as pandas dataframes) \n",
    "X = bike_sharing['data']['features'].drop(['hr'],axis=1)\n",
    "y = bike_sharing['data']['targets'] \n",
    "  \n",
    "# metadata \n",
    "#print(bike_sharing.metadata) \n",
    "  \n",
    "# variable information \n",
    "bike_sharing.variables\n"
   ]
  },
  {
   "cell_type": "code",
   "execution_count": 111,
   "id": "1a44c1f0-79ec-45df-ba8d-57d46ddd6731",
   "metadata": {},
   "outputs": [
    {
     "name": "stdout",
     "output_type": "stream",
     "text": [
      "<class 'pandas.core.frame.DataFrame'>\n",
      "RangeIndex: 17379 entries, 0 to 17378\n",
      "Data columns (total 12 columns):\n",
      " #   Column      Non-Null Count  Dtype         \n",
      "---  ------      --------------  -----         \n",
      " 0   dteday      17379 non-null  datetime64[us]\n",
      " 1   season      17379 non-null  int64         \n",
      " 2   yr          17379 non-null  int64         \n",
      " 3   mnth        17379 non-null  int64         \n",
      " 4   holiday     17379 non-null  int64         \n",
      " 5   weekday     17379 non-null  int64         \n",
      " 6   workingday  17379 non-null  int64         \n",
      " 7   weathersit  17379 non-null  int64         \n",
      " 8   temp        17379 non-null  float64       \n",
      " 9   atemp       17379 non-null  float64       \n",
      " 10  hum         17379 non-null  float64       \n",
      " 11  windspeed   17379 non-null  float64       \n",
      "dtypes: datetime64[us](1), float64(4), int64(7)\n",
      "memory usage: 1.6 MB\n"
     ]
    }
   ],
   "source": [
    "# 將日期欄位轉換成日期格式\n",
    "X['dteday']=X['dteday'].astype('datetime64[us]')\n",
    "X.info()"
   ]
  },
  {
   "cell_type": "code",
   "execution_count": 112,
   "id": "f614b186-520a-4926-a446-bd5e7ac19e1d",
   "metadata": {},
   "outputs": [
    {
     "data": {
      "text/html": [
       "<div>\n",
       "<style scoped>\n",
       "    .dataframe tbody tr th:only-of-type {\n",
       "        vertical-align: middle;\n",
       "    }\n",
       "\n",
       "    .dataframe tbody tr th {\n",
       "        vertical-align: top;\n",
       "    }\n",
       "\n",
       "    .dataframe thead th {\n",
       "        text-align: right;\n",
       "    }\n",
       "</style>\n",
       "<table border=\"1\" class=\"dataframe\">\n",
       "  <thead>\n",
       "    <tr style=\"text-align: right;\">\n",
       "      <th></th>\n",
       "      <th>日期</th>\n",
       "      <th>季節</th>\n",
       "      <th>年份</th>\n",
       "      <th>月份</th>\n",
       "      <th>國定假日</th>\n",
       "      <th>星期幾</th>\n",
       "      <th>工作日</th>\n",
       "      <th>天氣</th>\n",
       "      <th>氣溫</th>\n",
       "      <th>體感溫度</th>\n",
       "      <th>濕度</th>\n",
       "      <th>風速</th>\n",
       "    </tr>\n",
       "  </thead>\n",
       "  <tbody>\n",
       "    <tr>\n",
       "      <th>0</th>\n",
       "      <td>2011-01-01</td>\n",
       "      <td>1</td>\n",
       "      <td>0</td>\n",
       "      <td>1</td>\n",
       "      <td>0</td>\n",
       "      <td>6</td>\n",
       "      <td>0</td>\n",
       "      <td>1</td>\n",
       "      <td>0.24</td>\n",
       "      <td>0.2879</td>\n",
       "      <td>0.81</td>\n",
       "      <td>0.0</td>\n",
       "    </tr>\n",
       "    <tr>\n",
       "      <th>1</th>\n",
       "      <td>2011-01-01</td>\n",
       "      <td>1</td>\n",
       "      <td>0</td>\n",
       "      <td>1</td>\n",
       "      <td>0</td>\n",
       "      <td>6</td>\n",
       "      <td>0</td>\n",
       "      <td>1</td>\n",
       "      <td>0.22</td>\n",
       "      <td>0.2727</td>\n",
       "      <td>0.80</td>\n",
       "      <td>0.0</td>\n",
       "    </tr>\n",
       "    <tr>\n",
       "      <th>2</th>\n",
       "      <td>2011-01-01</td>\n",
       "      <td>1</td>\n",
       "      <td>0</td>\n",
       "      <td>1</td>\n",
       "      <td>0</td>\n",
       "      <td>6</td>\n",
       "      <td>0</td>\n",
       "      <td>1</td>\n",
       "      <td>0.22</td>\n",
       "      <td>0.2727</td>\n",
       "      <td>0.80</td>\n",
       "      <td>0.0</td>\n",
       "    </tr>\n",
       "    <tr>\n",
       "      <th>3</th>\n",
       "      <td>2011-01-01</td>\n",
       "      <td>1</td>\n",
       "      <td>0</td>\n",
       "      <td>1</td>\n",
       "      <td>0</td>\n",
       "      <td>6</td>\n",
       "      <td>0</td>\n",
       "      <td>1</td>\n",
       "      <td>0.24</td>\n",
       "      <td>0.2879</td>\n",
       "      <td>0.75</td>\n",
       "      <td>0.0</td>\n",
       "    </tr>\n",
       "    <tr>\n",
       "      <th>4</th>\n",
       "      <td>2011-01-01</td>\n",
       "      <td>1</td>\n",
       "      <td>0</td>\n",
       "      <td>1</td>\n",
       "      <td>0</td>\n",
       "      <td>6</td>\n",
       "      <td>0</td>\n",
       "      <td>1</td>\n",
       "      <td>0.24</td>\n",
       "      <td>0.2879</td>\n",
       "      <td>0.75</td>\n",
       "      <td>0.0</td>\n",
       "    </tr>\n",
       "  </tbody>\n",
       "</table>\n",
       "</div>"
      ],
      "text/plain": [
       "          日期  季節  年份  月份  國定假日  星期幾  工作日  天氣    氣溫    體感溫度    濕度   風速\n",
       "0 2011-01-01   1   0   1     0    6    0   1  0.24  0.2879  0.81  0.0\n",
       "1 2011-01-01   1   0   1     0    6    0   1  0.22  0.2727  0.80  0.0\n",
       "2 2011-01-01   1   0   1     0    6    0   1  0.22  0.2727  0.80  0.0\n",
       "3 2011-01-01   1   0   1     0    6    0   1  0.24  0.2879  0.75  0.0\n",
       "4 2011-01-01   1   0   1     0    6    0   1  0.24  0.2879  0.75  0.0"
      ]
     },
     "execution_count": 112,
     "metadata": {},
     "output_type": "execute_result"
    }
   ],
   "source": [
    "# 中文化名稱,方便辨識\n",
    "column_list=['日期','季節','年份','月份','國定假日','星期幾','工作日','天氣','氣溫','體感溫度','濕度','風速']\n",
    "X.columns=column_list\n",
    "X.head()"
   ]
  },
  {
   "cell_type": "code",
   "execution_count": 113,
   "id": "c95982c1-ed4a-4761-80e3-6783b007b6f6",
   "metadata": {},
   "outputs": [
    {
     "data": {
      "text/html": [
       "<div>\n",
       "<style scoped>\n",
       "    .dataframe tbody tr th:only-of-type {\n",
       "        vertical-align: middle;\n",
       "    }\n",
       "\n",
       "    .dataframe tbody tr th {\n",
       "        vertical-align: top;\n",
       "    }\n",
       "\n",
       "    .dataframe thead th {\n",
       "        text-align: right;\n",
       "    }\n",
       "</style>\n",
       "<table border=\"1\" class=\"dataframe\">\n",
       "  <thead>\n",
       "    <tr style=\"text-align: right;\">\n",
       "      <th></th>\n",
       "      <th>日期</th>\n",
       "      <th>季節</th>\n",
       "      <th>年份</th>\n",
       "      <th>月份</th>\n",
       "      <th>國定假日</th>\n",
       "      <th>星期幾</th>\n",
       "      <th>工作日</th>\n",
       "      <th>天氣</th>\n",
       "      <th>氣溫</th>\n",
       "      <th>體感溫度</th>\n",
       "      <th>濕度</th>\n",
       "      <th>風速</th>\n",
       "    </tr>\n",
       "  </thead>\n",
       "  <tbody>\n",
       "    <tr>\n",
       "      <th>17374</th>\n",
       "      <td>2012-12-31</td>\n",
       "      <td>1</td>\n",
       "      <td>1</td>\n",
       "      <td>12</td>\n",
       "      <td>0</td>\n",
       "      <td>1</td>\n",
       "      <td>1</td>\n",
       "      <td>2</td>\n",
       "      <td>0.26</td>\n",
       "      <td>0.2576</td>\n",
       "      <td>0.60</td>\n",
       "      <td>0.1642</td>\n",
       "    </tr>\n",
       "    <tr>\n",
       "      <th>17375</th>\n",
       "      <td>2012-12-31</td>\n",
       "      <td>1</td>\n",
       "      <td>1</td>\n",
       "      <td>12</td>\n",
       "      <td>0</td>\n",
       "      <td>1</td>\n",
       "      <td>1</td>\n",
       "      <td>2</td>\n",
       "      <td>0.26</td>\n",
       "      <td>0.2576</td>\n",
       "      <td>0.60</td>\n",
       "      <td>0.1642</td>\n",
       "    </tr>\n",
       "    <tr>\n",
       "      <th>17376</th>\n",
       "      <td>2012-12-31</td>\n",
       "      <td>1</td>\n",
       "      <td>1</td>\n",
       "      <td>12</td>\n",
       "      <td>0</td>\n",
       "      <td>1</td>\n",
       "      <td>1</td>\n",
       "      <td>1</td>\n",
       "      <td>0.26</td>\n",
       "      <td>0.2576</td>\n",
       "      <td>0.60</td>\n",
       "      <td>0.1642</td>\n",
       "    </tr>\n",
       "    <tr>\n",
       "      <th>17377</th>\n",
       "      <td>2012-12-31</td>\n",
       "      <td>1</td>\n",
       "      <td>1</td>\n",
       "      <td>12</td>\n",
       "      <td>0</td>\n",
       "      <td>1</td>\n",
       "      <td>1</td>\n",
       "      <td>1</td>\n",
       "      <td>0.26</td>\n",
       "      <td>0.2727</td>\n",
       "      <td>0.56</td>\n",
       "      <td>0.1343</td>\n",
       "    </tr>\n",
       "    <tr>\n",
       "      <th>17378</th>\n",
       "      <td>2012-12-31</td>\n",
       "      <td>1</td>\n",
       "      <td>1</td>\n",
       "      <td>12</td>\n",
       "      <td>0</td>\n",
       "      <td>1</td>\n",
       "      <td>1</td>\n",
       "      <td>1</td>\n",
       "      <td>0.26</td>\n",
       "      <td>0.2727</td>\n",
       "      <td>0.65</td>\n",
       "      <td>0.1343</td>\n",
       "    </tr>\n",
       "  </tbody>\n",
       "</table>\n",
       "</div>"
      ],
      "text/plain": [
       "              日期  季節  年份  月份  國定假日  星期幾  工作日  天氣    氣溫    體感溫度    濕度      風速\n",
       "17374 2012-12-31   1   1  12     0    1    1   2  0.26  0.2576  0.60  0.1642\n",
       "17375 2012-12-31   1   1  12     0    1    1   2  0.26  0.2576  0.60  0.1642\n",
       "17376 2012-12-31   1   1  12     0    1    1   1  0.26  0.2576  0.60  0.1642\n",
       "17377 2012-12-31   1   1  12     0    1    1   1  0.26  0.2727  0.56  0.1343\n",
       "17378 2012-12-31   1   1  12     0    1    1   1  0.26  0.2727  0.65  0.1343"
      ]
     },
     "execution_count": 113,
     "metadata": {},
     "output_type": "execute_result"
    }
   ],
   "source": [
    "X.tail()"
   ]
  },
  {
   "cell_type": "code",
   "execution_count": 114,
   "id": "6f007ed4-0e78-4655-8af7-7e35c9ebbc1e",
   "metadata": {},
   "outputs": [
    {
     "name": "stdout",
     "output_type": "stream",
     "text": [
      "<class 'pandas.core.frame.DataFrame'>\n",
      "RangeIndex: 731 entries, 0 to 730\n",
      "Data columns (total 12 columns):\n",
      " #   Column  Non-Null Count  Dtype         \n",
      "---  ------  --------------  -----         \n",
      " 0   日期      731 non-null    datetime64[us]\n",
      " 1   季節      731 non-null    float64       \n",
      " 2   年份      731 non-null    float64       \n",
      " 3   月份      731 non-null    float64       \n",
      " 4   國定假日    731 non-null    float64       \n",
      " 5   星期幾     731 non-null    float64       \n",
      " 6   工作日     731 non-null    float64       \n",
      " 7   天氣      731 non-null    float64       \n",
      " 8   氣溫      731 non-null    float64       \n",
      " 9   體感溫度    731 non-null    float64       \n",
      " 10  濕度      731 non-null    float64       \n",
      " 11  風速      731 non-null    float64       \n",
      "dtypes: datetime64[us](1), float64(11)\n",
      "memory usage: 68.7 KB\n"
     ]
    },
    {
     "name": "stderr",
     "output_type": "stream",
     "text": [
      "C:\\Users\\ininl\\AppData\\Local\\Temp\\ipykernel_14668\\177106276.py:3: SettingWithCopyWarning: \n",
      "A value is trying to be set on a copy of a slice from a DataFrame.\n",
      "Try using .loc[row_indexer,col_indexer] = value instead\n",
      "\n",
      "See the caveats in the documentation: https://pandas.pydata.org/pandas-docs/stable/user_guide/indexing.html#returning-a-view-versus-a-copy\n",
      "  y.loc[:,'日期']=X['日期']\n"
     ]
    }
   ],
   "source": [
    "# 將同一天的資料聚合\n",
    "# y轉為以天計算\n",
    "y.loc[:,'日期']=X['日期']\n",
    "y=(y.groupby('日期').sum()).reset_index(drop=True)\n",
    "\n",
    "# X轉為以天計算\n",
    "X=(X.groupby('日期').mean()).reset_index()\n",
    "\n",
    "X.loc[:,'天氣']=X['天氣'].round()\n",
    "X.info()"
   ]
  },
  {
   "cell_type": "code",
   "execution_count": 115,
   "id": "9a7e334b-4517-42d8-9657-a0cfc0c94507",
   "metadata": {},
   "outputs": [
    {
     "data": {
      "text/html": [
       "<div>\n",
       "<style scoped>\n",
       "    .dataframe tbody tr th:only-of-type {\n",
       "        vertical-align: middle;\n",
       "    }\n",
       "\n",
       "    .dataframe tbody tr th {\n",
       "        vertical-align: top;\n",
       "    }\n",
       "\n",
       "    .dataframe thead th {\n",
       "        text-align: right;\n",
       "    }\n",
       "</style>\n",
       "<table border=\"1\" class=\"dataframe\">\n",
       "  <thead>\n",
       "    <tr style=\"text-align: right;\">\n",
       "      <th></th>\n",
       "      <th>日期</th>\n",
       "      <th>季節</th>\n",
       "      <th>年份</th>\n",
       "      <th>月份</th>\n",
       "      <th>國定假日</th>\n",
       "      <th>星期幾</th>\n",
       "      <th>工作日</th>\n",
       "      <th>天氣</th>\n",
       "      <th>氣溫</th>\n",
       "      <th>體感溫度</th>\n",
       "      <th>濕度</th>\n",
       "      <th>風速</th>\n",
       "    </tr>\n",
       "  </thead>\n",
       "  <tbody>\n",
       "    <tr>\n",
       "      <th>0</th>\n",
       "      <td>2011-01-01</td>\n",
       "      <td>1.0</td>\n",
       "      <td>0.0</td>\n",
       "      <td>1.0</td>\n",
       "      <td>0.0</td>\n",
       "      <td>6.0</td>\n",
       "      <td>0.0</td>\n",
       "      <td>2.0</td>\n",
       "      <td>0.344167</td>\n",
       "      <td>0.363625</td>\n",
       "      <td>0.805833</td>\n",
       "      <td>0.160446</td>\n",
       "    </tr>\n",
       "    <tr>\n",
       "      <th>1</th>\n",
       "      <td>2011-01-02</td>\n",
       "      <td>1.0</td>\n",
       "      <td>0.0</td>\n",
       "      <td>1.0</td>\n",
       "      <td>0.0</td>\n",
       "      <td>0.0</td>\n",
       "      <td>0.0</td>\n",
       "      <td>2.0</td>\n",
       "      <td>0.363478</td>\n",
       "      <td>0.353739</td>\n",
       "      <td>0.696087</td>\n",
       "      <td>0.248539</td>\n",
       "    </tr>\n",
       "    <tr>\n",
       "      <th>2</th>\n",
       "      <td>2011-01-03</td>\n",
       "      <td>1.0</td>\n",
       "      <td>0.0</td>\n",
       "      <td>1.0</td>\n",
       "      <td>0.0</td>\n",
       "      <td>1.0</td>\n",
       "      <td>1.0</td>\n",
       "      <td>1.0</td>\n",
       "      <td>0.196364</td>\n",
       "      <td>0.189405</td>\n",
       "      <td>0.437273</td>\n",
       "      <td>0.248309</td>\n",
       "    </tr>\n",
       "    <tr>\n",
       "      <th>3</th>\n",
       "      <td>2011-01-04</td>\n",
       "      <td>1.0</td>\n",
       "      <td>0.0</td>\n",
       "      <td>1.0</td>\n",
       "      <td>0.0</td>\n",
       "      <td>2.0</td>\n",
       "      <td>1.0</td>\n",
       "      <td>1.0</td>\n",
       "      <td>0.200000</td>\n",
       "      <td>0.212122</td>\n",
       "      <td>0.590435</td>\n",
       "      <td>0.160296</td>\n",
       "    </tr>\n",
       "    <tr>\n",
       "      <th>4</th>\n",
       "      <td>2011-01-05</td>\n",
       "      <td>1.0</td>\n",
       "      <td>0.0</td>\n",
       "      <td>1.0</td>\n",
       "      <td>0.0</td>\n",
       "      <td>3.0</td>\n",
       "      <td>1.0</td>\n",
       "      <td>1.0</td>\n",
       "      <td>0.226957</td>\n",
       "      <td>0.229270</td>\n",
       "      <td>0.436957</td>\n",
       "      <td>0.186900</td>\n",
       "    </tr>\n",
       "  </tbody>\n",
       "</table>\n",
       "</div>"
      ],
      "text/plain": [
       "          日期   季節   年份   月份  國定假日  星期幾  工作日   天氣        氣溫      體感溫度  \\\n",
       "0 2011-01-01  1.0  0.0  1.0   0.0  6.0  0.0  2.0  0.344167  0.363625   \n",
       "1 2011-01-02  1.0  0.0  1.0   0.0  0.0  0.0  2.0  0.363478  0.353739   \n",
       "2 2011-01-03  1.0  0.0  1.0   0.0  1.0  1.0  1.0  0.196364  0.189405   \n",
       "3 2011-01-04  1.0  0.0  1.0   0.0  2.0  1.0  1.0  0.200000  0.212122   \n",
       "4 2011-01-05  1.0  0.0  1.0   0.0  3.0  1.0  1.0  0.226957  0.229270   \n",
       "\n",
       "         濕度        風速  \n",
       "0  0.805833  0.160446  \n",
       "1  0.696087  0.248539  \n",
       "2  0.437273  0.248309  \n",
       "3  0.590435  0.160296  \n",
       "4  0.436957  0.186900  "
      ]
     },
     "execution_count": 115,
     "metadata": {},
     "output_type": "execute_result"
    }
   ],
   "source": [
    "X.head()"
   ]
  },
  {
   "cell_type": "code",
   "execution_count": 116,
   "id": "9cc5aad6-d830-4441-9d15-d7f33869945d",
   "metadata": {},
   "outputs": [
    {
     "data": {
      "text/html": [
       "<div>\n",
       "<style scoped>\n",
       "    .dataframe tbody tr th:only-of-type {\n",
       "        vertical-align: middle;\n",
       "    }\n",
       "\n",
       "    .dataframe tbody tr th {\n",
       "        vertical-align: top;\n",
       "    }\n",
       "\n",
       "    .dataframe thead th {\n",
       "        text-align: right;\n",
       "    }\n",
       "</style>\n",
       "<table border=\"1\" class=\"dataframe\">\n",
       "  <thead>\n",
       "    <tr style=\"text-align: right;\">\n",
       "      <th></th>\n",
       "      <th>cnt</th>\n",
       "    </tr>\n",
       "  </thead>\n",
       "  <tbody>\n",
       "    <tr>\n",
       "      <th>0</th>\n",
       "      <td>985</td>\n",
       "    </tr>\n",
       "    <tr>\n",
       "      <th>1</th>\n",
       "      <td>801</td>\n",
       "    </tr>\n",
       "    <tr>\n",
       "      <th>2</th>\n",
       "      <td>1349</td>\n",
       "    </tr>\n",
       "    <tr>\n",
       "      <th>3</th>\n",
       "      <td>1562</td>\n",
       "    </tr>\n",
       "    <tr>\n",
       "      <th>4</th>\n",
       "      <td>1600</td>\n",
       "    </tr>\n",
       "  </tbody>\n",
       "</table>\n",
       "</div>"
      ],
      "text/plain": [
       "    cnt\n",
       "0   985\n",
       "1   801\n",
       "2  1349\n",
       "3  1562\n",
       "4  1600"
      ]
     },
     "execution_count": 116,
     "metadata": {},
     "output_type": "execute_result"
    }
   ],
   "source": [
    "y.head()"
   ]
  },
  {
   "cell_type": "code",
   "execution_count": 117,
   "id": "9c4f8498-cd48-4d8c-a6cf-c627d3080ff2",
   "metadata": {},
   "outputs": [],
   "source": [
    "# 調整圖形大小\n",
    "from pylab import rcParams\n",
    "rcParams['figure.figsize']=(12,12)"
   ]
  },
  {
   "cell_type": "code",
   "execution_count": 118,
   "id": "246d7c18-208c-4eb1-9e06-ddf91b1dccc5",
   "metadata": {},
   "outputs": [
    {
     "data": {
      "image/png": "[encoded data removed]",
      "text/plain": [
       "<Figure size 864x864 with 12 Axes>"
      ]
     },
     "metadata": {
      "needs_background": "light"
     },
     "output_type": "display_data"
    }
   ],
   "source": [
    "# 用hist繪圖查看\n",
    "X.iloc[:,1:].hist(bins=20)\n",
    "plt.tight_layout()\n",
    "plt.show()"
   ]
  },
  {
   "cell_type": "code",
   "execution_count": 157,
   "id": "c39fcccf-202c-4a39-877e-e09714583b69",
   "metadata": {},
   "outputs": [
    {
     "data": {
      "image/png": "[encoded data removed]",
      "text/plain": [
       "<Figure size 864x288 with 1 Axes>"
      ]
     },
     "metadata": {
      "needs_background": "light"
     },
     "output_type": "display_data"
    }
   ],
   "source": [
    "# 繪圖看資料與時間關係\n",
    "plt.figure(figsize=(12,4))\n",
    "plt.plot(X['日期'],y,c='b')\n",
    "plt.grid()\n",
    "plt.title('總租借輛')\n",
    "plt.show()"
   ]
  },
  {
   "cell_type": "raw",
   "id": "9b4f03a3-4dd9-4c0e-849c-f5ad239f0bdf",
   "metadata": {},
   "source": [
    "圖中可觀察到,天氣較為寒冷的月份租車用戶較少"
   ]
  },
  {
   "cell_type": "code",
   "execution_count": 200,
   "id": "b3890380-7a4b-4ea5-a694-5a6c2bad0f28",
   "metadata": {},
   "outputs": [],
   "source": [
    "# 分割資料,以2012/11/1作為分割點\n",
    "mday=pd.to_datetime('2012-11-1')\n",
    "\n",
    "# 建立索引\n",
    "train_index=X['日期']<mday\n",
    "test_index=X['日期']>=mday\n",
    "\n",
    "# 分割資料\n",
    "x=X.drop('日期',axis=1)\n",
    "x_train=x[train_index]\n",
    "x_test=x[test_index]\n",
    "y_train=y[train_index].values\n",
    "y_test=y[test_index].values"
   ]
  },
  {
   "cell_type": "code",
   "execution_count": 196,
   "id": "5428b7b8-7ce8-411f-a696-4bd6a3d9b42d",
   "metadata": {},
   "outputs": [
    {
     "name": "stdout",
     "output_type": "stream",
     "text": [
      "(670, 11)\n",
      "(61, 11)\n"
     ]
    },
    {
     "data": {
      "text/html": [
       "<div>\n",
       "<style scoped>\n",
       "    .dataframe tbody tr th:only-of-type {\n",
       "        vertical-align: middle;\n",
       "    }\n",
       "\n",
       "    .dataframe tbody tr th {\n",
       "        vertical-align: top;\n",
       "    }\n",
       "\n",
       "    .dataframe thead th {\n",
       "        text-align: right;\n",
       "    }\n",
       "</style>\n",
       "<table border=\"1\" class=\"dataframe\">\n",
       "  <thead>\n",
       "    <tr style=\"text-align: right;\">\n",
       "      <th></th>\n",
       "      <th>季節</th>\n",
       "      <th>年份</th>\n",
       "      <th>月份</th>\n",
       "      <th>國定假日</th>\n",
       "      <th>星期幾</th>\n",
       "      <th>工作日</th>\n",
       "      <th>天氣</th>\n",
       "      <th>氣溫</th>\n",
       "      <th>體感溫度</th>\n",
       "      <th>濕度</th>\n",
       "      <th>風速</th>\n",
       "    </tr>\n",
       "  </thead>\n",
       "  <tbody>\n",
       "    <tr>\n",
       "      <th>665</th>\n",
       "      <td>4.0</td>\n",
       "      <td>1.0</td>\n",
       "      <td>10.0</td>\n",
       "      <td>0.0</td>\n",
       "      <td>6.0</td>\n",
       "      <td>0.0</td>\n",
       "      <td>2.0</td>\n",
       "      <td>0.530000</td>\n",
       "      <td>0.515133</td>\n",
       "      <td>0.720000</td>\n",
       "      <td>0.235692</td>\n",
       "    </tr>\n",
       "    <tr>\n",
       "      <th>666</th>\n",
       "      <td>4.0</td>\n",
       "      <td>1.0</td>\n",
       "      <td>10.0</td>\n",
       "      <td>0.0</td>\n",
       "      <td>0.0</td>\n",
       "      <td>0.0</td>\n",
       "      <td>2.0</td>\n",
       "      <td>0.477500</td>\n",
       "      <td>0.467771</td>\n",
       "      <td>0.694583</td>\n",
       "      <td>0.398008</td>\n",
       "    </tr>\n",
       "    <tr>\n",
       "      <th>667</th>\n",
       "      <td>4.0</td>\n",
       "      <td>1.0</td>\n",
       "      <td>10.0</td>\n",
       "      <td>0.0</td>\n",
       "      <td>1.0</td>\n",
       "      <td>1.0</td>\n",
       "      <td>3.0</td>\n",
       "      <td>0.440000</td>\n",
       "      <td>0.439400</td>\n",
       "      <td>0.880000</td>\n",
       "      <td>0.358200</td>\n",
       "    </tr>\n",
       "    <tr>\n",
       "      <th>668</th>\n",
       "      <td>4.0</td>\n",
       "      <td>1.0</td>\n",
       "      <td>10.0</td>\n",
       "      <td>0.0</td>\n",
       "      <td>2.0</td>\n",
       "      <td>1.0</td>\n",
       "      <td>2.0</td>\n",
       "      <td>0.318182</td>\n",
       "      <td>0.309909</td>\n",
       "      <td>0.825455</td>\n",
       "      <td>0.213009</td>\n",
       "    </tr>\n",
       "    <tr>\n",
       "      <th>669</th>\n",
       "      <td>4.0</td>\n",
       "      <td>1.0</td>\n",
       "      <td>10.0</td>\n",
       "      <td>0.0</td>\n",
       "      <td>3.0</td>\n",
       "      <td>1.0</td>\n",
       "      <td>2.0</td>\n",
       "      <td>0.357500</td>\n",
       "      <td>0.361100</td>\n",
       "      <td>0.666667</td>\n",
       "      <td>0.166667</td>\n",
       "    </tr>\n",
       "  </tbody>\n",
       "</table>\n",
       "</div>"
      ],
      "text/plain": [
       "      季節   年份    月份  國定假日  星期幾  工作日   天氣        氣溫      體感溫度        濕度  \\\n",
       "665  4.0  1.0  10.0   0.0  6.0  0.0  2.0  0.530000  0.515133  0.720000   \n",
       "666  4.0  1.0  10.0   0.0  0.0  0.0  2.0  0.477500  0.467771  0.694583   \n",
       "667  4.0  1.0  10.0   0.0  1.0  1.0  3.0  0.440000  0.439400  0.880000   \n",
       "668  4.0  1.0  10.0   0.0  2.0  1.0  2.0  0.318182  0.309909  0.825455   \n",
       "669  4.0  1.0  10.0   0.0  3.0  1.0  2.0  0.357500  0.361100  0.666667   \n",
       "\n",
       "           風速  \n",
       "665  0.235692  \n",
       "666  0.398008  \n",
       "667  0.358200  \n",
       "668  0.213009  \n",
       "669  0.166667  "
      ]
     },
     "metadata": {},
     "output_type": "display_data"
    },
    {
     "data": {
      "text/html": [
       "<div>\n",
       "<style scoped>\n",
       "    .dataframe tbody tr th:only-of-type {\n",
       "        vertical-align: middle;\n",
       "    }\n",
       "\n",
       "    .dataframe tbody tr th {\n",
       "        vertical-align: top;\n",
       "    }\n",
       "\n",
       "    .dataframe thead th {\n",
       "        text-align: right;\n",
       "    }\n",
       "</style>\n",
       "<table border=\"1\" class=\"dataframe\">\n",
       "  <thead>\n",
       "    <tr style=\"text-align: right;\">\n",
       "      <th></th>\n",
       "      <th>季節</th>\n",
       "      <th>年份</th>\n",
       "      <th>月份</th>\n",
       "      <th>國定假日</th>\n",
       "      <th>星期幾</th>\n",
       "      <th>工作日</th>\n",
       "      <th>天氣</th>\n",
       "      <th>氣溫</th>\n",
       "      <th>體感溫度</th>\n",
       "      <th>濕度</th>\n",
       "      <th>風速</th>\n",
       "    </tr>\n",
       "  </thead>\n",
       "  <tbody>\n",
       "    <tr>\n",
       "      <th>670</th>\n",
       "      <td>4.0</td>\n",
       "      <td>1.0</td>\n",
       "      <td>11.0</td>\n",
       "      <td>0.0</td>\n",
       "      <td>4.0</td>\n",
       "      <td>1.0</td>\n",
       "      <td>2.0</td>\n",
       "      <td>0.365833</td>\n",
       "      <td>0.369942</td>\n",
       "      <td>0.581667</td>\n",
       "      <td>0.157346</td>\n",
       "    </tr>\n",
       "    <tr>\n",
       "      <th>671</th>\n",
       "      <td>4.0</td>\n",
       "      <td>1.0</td>\n",
       "      <td>11.0</td>\n",
       "      <td>0.0</td>\n",
       "      <td>5.0</td>\n",
       "      <td>1.0</td>\n",
       "      <td>1.0</td>\n",
       "      <td>0.355000</td>\n",
       "      <td>0.356042</td>\n",
       "      <td>0.522083</td>\n",
       "      <td>0.266175</td>\n",
       "    </tr>\n",
       "    <tr>\n",
       "      <th>672</th>\n",
       "      <td>4.0</td>\n",
       "      <td>1.0</td>\n",
       "      <td>11.0</td>\n",
       "      <td>0.0</td>\n",
       "      <td>6.0</td>\n",
       "      <td>0.0</td>\n",
       "      <td>2.0</td>\n",
       "      <td>0.343333</td>\n",
       "      <td>0.323846</td>\n",
       "      <td>0.491250</td>\n",
       "      <td>0.270529</td>\n",
       "    </tr>\n",
       "    <tr>\n",
       "      <th>673</th>\n",
       "      <td>4.0</td>\n",
       "      <td>1.0</td>\n",
       "      <td>11.0</td>\n",
       "      <td>0.0</td>\n",
       "      <td>0.0</td>\n",
       "      <td>0.0</td>\n",
       "      <td>1.0</td>\n",
       "      <td>0.325833</td>\n",
       "      <td>0.329537</td>\n",
       "      <td>0.532917</td>\n",
       "      <td>0.179108</td>\n",
       "    </tr>\n",
       "    <tr>\n",
       "      <th>674</th>\n",
       "      <td>4.0</td>\n",
       "      <td>1.0</td>\n",
       "      <td>11.0</td>\n",
       "      <td>0.0</td>\n",
       "      <td>1.0</td>\n",
       "      <td>1.0</td>\n",
       "      <td>1.0</td>\n",
       "      <td>0.319167</td>\n",
       "      <td>0.308075</td>\n",
       "      <td>0.494167</td>\n",
       "      <td>0.236325</td>\n",
       "    </tr>\n",
       "  </tbody>\n",
       "</table>\n",
       "</div>"
      ],
      "text/plain": [
       "      季節   年份    月份  國定假日  星期幾  工作日   天氣        氣溫      體感溫度        濕度  \\\n",
       "670  4.0  1.0  11.0   0.0  4.0  1.0  2.0  0.365833  0.369942  0.581667   \n",
       "671  4.0  1.0  11.0   0.0  5.0  1.0  1.0  0.355000  0.356042  0.522083   \n",
       "672  4.0  1.0  11.0   0.0  6.0  0.0  2.0  0.343333  0.323846  0.491250   \n",
       "673  4.0  1.0  11.0   0.0  0.0  0.0  1.0  0.325833  0.329537  0.532917   \n",
       "674  4.0  1.0  11.0   0.0  1.0  1.0  1.0  0.319167  0.308075  0.494167   \n",
       "\n",
       "           風速  \n",
       "670  0.157346  \n",
       "671  0.266175  \n",
       "672  0.270529  \n",
       "673  0.179108  \n",
       "674  0.236325  "
      ]
     },
     "execution_count": 196,
     "metadata": {},
     "output_type": "execute_result"
    }
   ],
   "source": [
    "# 查看\n",
    "print(x_train.shape)\n",
    "print(x_test.shape)\n",
    "\n",
    "display(x_train.tail())\n",
    "x_test.head()"
   ]
  },
  {
   "cell_type": "code",
   "execution_count": 201,
   "id": "8aa8deab-45e0-4cd5-8352-db34ef58c085",
   "metadata": {},
   "outputs": [
    {
     "data": {
      "text/html": [
       "<style>#sk-container-id-2 {color: black;}#sk-container-id-2 pre{padding: 0;}#sk-container-id-2 div.sk-toggleable {background-color: white;}#sk-container-id-2 label.sk-toggleable__label {cursor: pointer;display: block;width: 100%;margin-bottom: 0;padding: 0.3em;box-sizing: border-box;text-align: center;}#sk-container-id-2 label.sk-toggleable__label-arrow:before {content: \"▸\";float: left;margin-right: 0.25em;color: #696969;}#sk-container-id-2 label.sk-toggleable__label-arrow:hover:before {color: black;}#sk-container-id-2 div.sk-estimator:hover label.sk-toggleable__label-arrow:before {color: black;}#sk-container-id-2 div.sk-toggleable__content {max-height: 0;max-width: 0;overflow: hidden;text-align: left;background-color: #f0f8ff;}#sk-container-id-2 div.sk-toggleable__content pre {margin: 0.2em;color: black;border-radius: 0.25em;background-color: #f0f8ff;}#sk-container-id-2 input.sk-toggleable__control:checked~div.sk-toggleable__content {max-height: 200px;max-width: 100%;overflow: auto;}#sk-container-id-2 input.sk-toggleable__control:checked~label.sk-toggleable__label-arrow:before {content: \"▾\";}#sk-container-id-2 div.sk-estimator input.sk-toggleable__control:checked~label.sk-toggleable__label {background-color: #d4ebff;}#sk-container-id-2 div.sk-label input.sk-toggleable__control:checked~label.sk-toggleable__label {background-color: #d4ebff;}#sk-container-id-2 input.sk-hidden--visually {border: 0;clip: rect(1px 1px 1px 1px);clip: rect(1px, 1px, 1px, 1px);height: 1px;margin: -1px;overflow: hidden;padding: 0;position: absolute;width: 1px;}#sk-container-id-2 div.sk-estimator {font-family: monospace;background-color: #f0f8ff;border: 1px dotted black;border-radius: 0.25em;box-sizing: border-box;margin-bottom: 0.5em;}#sk-container-id-2 div.sk-estimator:hover {background-color: #d4ebff;}#sk-container-id-2 div.sk-parallel-item::after {content: \"\";width: 100%;border-bottom: 1px solid gray;flex-grow: 1;}#sk-container-id-2 div.sk-label:hover label.sk-toggleable__label {background-color: #d4ebff;}#sk-container-id-2 div.sk-serial::before {content: \"\";position: absolute;border-left: 1px solid gray;box-sizing: border-box;top: 0;bottom: 0;left: 50%;z-index: 0;}#sk-container-id-2 div.sk-serial {display: flex;flex-direction: column;align-items: center;background-color: white;padding-right: 0.2em;padding-left: 0.2em;position: relative;}#sk-container-id-2 div.sk-item {position: relative;z-index: 1;}#sk-container-id-2 div.sk-parallel {display: flex;align-items: stretch;justify-content: center;background-color: white;position: relative;}#sk-container-id-2 div.sk-item::before, #sk-container-id-2 div.sk-parallel-item::before {content: \"\";position: absolute;border-left: 1px solid gray;box-sizing: border-box;top: 0;bottom: 0;left: 50%;z-index: -1;}#sk-container-id-2 div.sk-parallel-item {display: flex;flex-direction: column;z-index: 1;position: relative;background-color: white;}#sk-container-id-2 div.sk-parallel-item:first-child::after {align-self: flex-end;width: 50%;}#sk-container-id-2 div.sk-parallel-item:last-child::after {align-self: flex-start;width: 50%;}#sk-container-id-2 div.sk-parallel-item:only-child::after {width: 0;}#sk-container-id-2 div.sk-dashed-wrapped {border: 1px dashed gray;margin: 0 0.4em 0.5em 0.4em;box-sizing: border-box;padding-bottom: 0.4em;background-color: white;}#sk-container-id-2 div.sk-label label {font-family: monospace;font-weight: bold;display: inline-block;line-height: 1.2em;}#sk-container-id-2 div.sk-label-container {text-align: center;}#sk-container-id-2 div.sk-container {/* jupyter's `normalize.less` sets `[hidden] { display: none; }` but bootstrap.min.css set `[hidden] { display: none !important; }` so we also need the `!important` here to be able to override the default hidden behavior on the sphinx rendered scikit-learn.org. See: https://github.com/scikit-learn/scikit-learn/issues/21755 */display: inline-block !important;position: relative;}#sk-container-id-2 div.sk-text-repr-fallback {display: none;}</style><div id=\"sk-container-id-2\" class=\"sk-top-container\"><div class=\"sk-text-repr-fallback\"><pre>XGBRegressor(base_score=None, booster=None, callbacks=None,\n",
       "             colsample_bylevel=None, colsample_bynode=None,\n",
       "             colsample_bytree=None, device=None, early_stopping_rounds=None,\n",
       "             enable_categorical=False, eval_metric=None, feature_types=None,\n",
       "             gamma=None, grow_policy=None, importance_type=None,\n",
       "             interaction_constraints=None, learning_rate=None, max_bin=None,\n",
       "             max_cat_threshold=None, max_cat_to_onehot=None,\n",
       "             max_delta_step=None, max_depth=None, max_leaves=None,\n",
       "             min_child_weight=None, missing=nan, monotone_constraints=None,\n",
       "             multi_strategy=None, n_estimators=None, n_jobs=None,\n",
       "             num_parallel_tree=None, random_state=1, ...)</pre><b>In a Jupyter environment, please rerun this cell to show the HTML representation or trust the notebook. <br />On GitHub, the HTML representation is unable to render, please try loading this page with nbviewer.org.</b></div><div class=\"sk-container\" hidden><div class=\"sk-item\"><div class=\"sk-estimator sk-toggleable\"><input class=\"sk-toggleable__control sk-hidden--visually\" id=\"sk-estimator-id-2\" type=\"checkbox\" checked><label for=\"sk-estimator-id-2\" class=\"sk-toggleable__label sk-toggleable__label-arrow\">XGBRegressor</label><div class=\"sk-toggleable__content\"><pre>XGBRegressor(base_score=None, booster=None, callbacks=None,\n",
       "             colsample_bylevel=None, colsample_bynode=None,\n",
       "             colsample_bytree=None, device=None, early_stopping_rounds=None,\n",
       "             enable_categorical=False, eval_metric=None, feature_types=None,\n",
       "             gamma=None, grow_policy=None, importance_type=None,\n",
       "             interaction_constraints=None, learning_rate=None, max_bin=None,\n",
       "             max_cat_threshold=None, max_cat_to_onehot=None,\n",
       "             max_delta_step=None, max_depth=None, max_leaves=None,\n",
       "             min_child_weight=None, missing=nan, monotone_constraints=None,\n",
       "             multi_strategy=None, n_estimators=None, n_jobs=None,\n",
       "             num_parallel_tree=None, random_state=1, ...)</pre></div></div></div></div></div>"
      ],
      "text/plain": [
       "XGBRegressor(base_score=None, booster=None, callbacks=None,\n",
       "             colsample_bylevel=None, colsample_bynode=None,\n",
       "             colsample_bytree=None, device=None, early_stopping_rounds=None,\n",
       "             enable_categorical=False, eval_metric=None, feature_types=None,\n",
       "             gamma=None, grow_policy=None, importance_type=None,\n",
       "             interaction_constraints=None, learning_rate=None, max_bin=None,\n",
       "             max_cat_threshold=None, max_cat_to_onehot=None,\n",
       "             max_delta_step=None, max_depth=None, max_leaves=None,\n",
       "             min_child_weight=None, missing=nan, monotone_constraints=None,\n",
       "             multi_strategy=None, n_estimators=None, n_jobs=None,\n",
       "             num_parallel_tree=None, random_state=1, ...)"
      ]
     },
     "execution_count": 201,
     "metadata": {},
     "output_type": "execute_result"
    }
   ],
   "source": [
    "# XGBRegressor\n",
    "# 用MSE\n",
    "from xgboost import XGBRegressor\n",
    "algorithm=XGBRegressor(objective='reg:squarederror',random_state=1)\n",
    "algorithm.fit(x_train,y_train)"
   ]
  },
  {
   "cell_type": "code",
   "execution_count": 203,
   "id": "4ca5c5f7-3668-4002-b7b2-7fd5dacdfef9",
   "metadata": {},
   "outputs": [
    {
     "data": {
      "text/plain": [
       "array([5356.6265, 6348.643 , 4449.666 , 4619.9336, 4143.2983],\n",
       "      dtype=float32)"
      ]
     },
     "execution_count": 203,
     "metadata": {},
     "output_type": "execute_result"
    }
   ],
   "source": [
    "# 預測\n",
    "y_pre=algorithm.predict(x_test)\n",
    "y_pre[:5]"
   ]
  },
  {
   "cell_type": "code",
   "execution_count": 205,
   "id": "5a0bc697-1324-4c08-b6ca-9d332128bb95",
   "metadata": {},
   "outputs": [
    {
     "name": "stdout",
     "output_type": "stream",
     "text": [
      "ml_score:0.5681  r2_score:0.5681\n"
     ]
    }
   ],
   "source": [
    "# 計算R2\n",
    "from sklearn.metrics import r2_score\n",
    "score_r2=r2_score(y_test,y_pre)\n",
    "\n",
    "ml_score=algorithm.score(x_test,y_test)\n",
    "\n",
    "print(f'ml_score:{ml_score:.4f}  r2_score:{score_r2:.4f}')"
   ]
  },
  {
   "cell_type": "raw",
   "id": "dea87e6f-5a25-44f1-9218-bf276673334a",
   "metadata": {},
   "source": [
    "就R2來看,顯示目前模型具有一定程度的意義,但不算良好的代表資料"
   ]
  },
  {
   "cell_type": "code",
   "execution_count": 217,
   "id": "0fe26d98-ef7e-4d6b-8c79-872934ad9334",
   "metadata": {},
   "outputs": [
    {
     "data": {
      "image/png": "[encoded data removed]",
      "text/plain": [
       "<Figure size 432x432 with 1 Axes>"
      ]
     },
     "metadata": {
      "needs_background": "light"
     },
     "output_type": "display_data"
    }
   ],
   "source": [
    "# 繪製散佈圖觀察\n",
    "plt.figure(figsize=(6,6))\n",
    "y_max=y_test.max()\n",
    "plt.plot((0,y_max),(0,y_max),c='k')\n",
    "plt.scatter(y_test,y_pre,c='b')\n",
    "plt.title('實際值與預測值(總用戶)\\nR2=0.5681')\n",
    "plt.grid()\n",
    "plt.show()"
   ]
  },
  {
   "cell_type": "raw",
   "id": "5217f0bd-ae63-4c57-bf37-25ad01a032f0",
   "metadata": {},
   "source": [
    "圖中顯示兩者線性關係並不強"
   ]
  },
  {
   "cell_type": "code",
   "execution_count": 225,
   "id": "cdfdc9be-113e-494b-8f60-f59ff74f4959",
   "metadata": {},
   "outputs": [
    {
     "data": {
      "image/png": "[encoded data removed]",
      "text/plain": [
       "<Figure size 576x288 with 1 Axes>"
      ]
     },
     "metadata": {
      "needs_background": "light"
     },
     "output_type": "display_data"
    }
   ],
   "source": [
    "# 繪製時間序列圖\n",
    "import matplotlib.dates as mdates\n",
    "fig,ax=plt.subplots(figsize=(8,4))\n",
    "dates_test=X['日期'][test_index]\n",
    "ax.plot(dates_test,y_test,label='標準答案',c='k')\n",
    "ax.plot(dates_test,y_pre,label='預測值',c='b')\n",
    "\n",
    "# 於每週四顯示日期,標籤旋轉90度\n",
    "weeks=mdates.WeekdayLocator(byweekday=mdates.TH)\n",
    "ax.xaxis.set_major_locator(weeks)\n",
    "ax.tick_params(axis='x',rotation=90)\n",
    "\n",
    "# 顯示\n",
    "ax.grid()\n",
    "ax.legend()\n",
    "ax.set_title('預測總用戶租借輛')\n",
    "plt.show()"
   ]
  },
  {
   "cell_type": "code",
   "execution_count": 237,
   "id": "f1421094-3cd2-45ef-978f-5150733e547f",
   "metadata": {},
   "outputs": [
    {
     "name": "stdout",
     "output_type": "stream",
     "text": [
      "<class 'pandas.core.frame.DataFrame'>\n",
      "RangeIndex: 731 entries, 0 to 730\n",
      "Data columns (total 25 columns):\n",
      " #   Column   Non-Null Count  Dtype  \n",
      "---  ------   --------------  -----  \n",
      " 0   年份       731 non-null    float64\n",
      " 1   國定假日     731 non-null    float64\n",
      " 2   星期幾      731 non-null    float64\n",
      " 3   工作日      731 non-null    float64\n",
      " 4   天氣       731 non-null    float64\n",
      " 5   氣溫       731 non-null    float64\n",
      " 6   體感溫度     731 non-null    float64\n",
      " 7   濕度       731 non-null    float64\n",
      " 8   風速       731 non-null    float64\n",
      " 9   季節_1.0   731 non-null    int32  \n",
      " 10  季節_2.0   731 non-null    int32  \n",
      " 11  季節_3.0   731 non-null    int32  \n",
      " 12  季節_4.0   731 non-null    int32  \n",
      " 13  月份_1.0   731 non-null    int32  \n",
      " 14  月份_2.0   731 non-null    int32  \n",
      " 15  月份_3.0   731 non-null    int32  \n",
      " 16  月份_4.0   731 non-null    int32  \n",
      " 17  月份_5.0   731 non-null    int32  \n",
      " 18  月份_6.0   731 non-null    int32  \n",
      " 19  月份_7.0   731 non-null    int32  \n",
      " 20  月份_8.0   731 non-null    int32  \n",
      " 21  月份_9.0   731 non-null    int32  \n",
      " 22  月份_10.0  731 non-null    int32  \n",
      " 23  月份_11.0  731 non-null    int32  \n",
      " 24  月份_12.0  731 non-null    int32  \n",
      "dtypes: float64(9), int32(16)\n",
      "memory usage: 97.2 KB\n"
     ]
    }
   ],
   "source": [
    "# 使用one hot code 排除季節與月份的大小問題\n",
    "def one_hot_code(df,column):\n",
    "    df_dummy=pd.get_dummies(df[column],prefix=column,dtype=int)\n",
    "    df=df.drop([column],axis=1)\n",
    "    df=pd.concat([df,df_dummy],axis=1)\n",
    "    return df\n",
    "\n",
    "# 對季節與月份進行編碼\n",
    "x2=x.copy(deep=True)\n",
    "x2=one_hot_code(x2,'季節')\n",
    "x2=one_hot_code(x2,'月份')\n",
    "\n",
    "x2.info()"
   ]
  },
  {
   "cell_type": "code",
   "execution_count": 247,
   "id": "106cd46e-1224-422c-b264-97964ca71687",
   "metadata": {},
   "outputs": [
    {
     "data": {
      "text/html": [
       "<style>#sk-container-id-4 {color: black;}#sk-container-id-4 pre{padding: 0;}#sk-container-id-4 div.sk-toggleable {background-color: white;}#sk-container-id-4 label.sk-toggleable__label {cursor: pointer;display: block;width: 100%;margin-bottom: 0;padding: 0.3em;box-sizing: border-box;text-align: center;}#sk-container-id-4 label.sk-toggleable__label-arrow:before {content: \"▸\";float: left;margin-right: 0.25em;color: #696969;}#sk-container-id-4 label.sk-toggleable__label-arrow:hover:before {color: black;}#sk-container-id-4 div.sk-estimator:hover label.sk-toggleable__label-arrow:before {color: black;}#sk-container-id-4 div.sk-toggleable__content {max-height: 0;max-width: 0;overflow: hidden;text-align: left;background-color: #f0f8ff;}#sk-container-id-4 div.sk-toggleable__content pre {margin: 0.2em;color: black;border-radius: 0.25em;background-color: #f0f8ff;}#sk-container-id-4 input.sk-toggleable__control:checked~div.sk-toggleable__content {max-height: 200px;max-width: 100%;overflow: auto;}#sk-container-id-4 input.sk-toggleable__control:checked~label.sk-toggleable__label-arrow:before {content: \"▾\";}#sk-container-id-4 div.sk-estimator input.sk-toggleable__control:checked~label.sk-toggleable__label {background-color: #d4ebff;}#sk-container-id-4 div.sk-label input.sk-toggleable__control:checked~label.sk-toggleable__label {background-color: #d4ebff;}#sk-container-id-4 input.sk-hidden--visually {border: 0;clip: rect(1px 1px 1px 1px);clip: rect(1px, 1px, 1px, 1px);height: 1px;margin: -1px;overflow: hidden;padding: 0;position: absolute;width: 1px;}#sk-container-id-4 div.sk-estimator {font-family: monospace;background-color: #f0f8ff;border: 1px dotted black;border-radius: 0.25em;box-sizing: border-box;margin-bottom: 0.5em;}#sk-container-id-4 div.sk-estimator:hover {background-color: #d4ebff;}#sk-container-id-4 div.sk-parallel-item::after {content: \"\";width: 100%;border-bottom: 1px solid gray;flex-grow: 1;}#sk-container-id-4 div.sk-label:hover label.sk-toggleable__label {background-color: #d4ebff;}#sk-container-id-4 div.sk-serial::before {content: \"\";position: absolute;border-left: 1px solid gray;box-sizing: border-box;top: 0;bottom: 0;left: 50%;z-index: 0;}#sk-container-id-4 div.sk-serial {display: flex;flex-direction: column;align-items: center;background-color: white;padding-right: 0.2em;padding-left: 0.2em;position: relative;}#sk-container-id-4 div.sk-item {position: relative;z-index: 1;}#sk-container-id-4 div.sk-parallel {display: flex;align-items: stretch;justify-content: center;background-color: white;position: relative;}#sk-container-id-4 div.sk-item::before, #sk-container-id-4 div.sk-parallel-item::before {content: \"\";position: absolute;border-left: 1px solid gray;box-sizing: border-box;top: 0;bottom: 0;left: 50%;z-index: -1;}#sk-container-id-4 div.sk-parallel-item {display: flex;flex-direction: column;z-index: 1;position: relative;background-color: white;}#sk-container-id-4 div.sk-parallel-item:first-child::after {align-self: flex-end;width: 50%;}#sk-container-id-4 div.sk-parallel-item:last-child::after {align-self: flex-start;width: 50%;}#sk-container-id-4 div.sk-parallel-item:only-child::after {width: 0;}#sk-container-id-4 div.sk-dashed-wrapped {border: 1px dashed gray;margin: 0 0.4em 0.5em 0.4em;box-sizing: border-box;padding-bottom: 0.4em;background-color: white;}#sk-container-id-4 div.sk-label label {font-family: monospace;font-weight: bold;display: inline-block;line-height: 1.2em;}#sk-container-id-4 div.sk-label-container {text-align: center;}#sk-container-id-4 div.sk-container {/* jupyter's `normalize.less` sets `[hidden] { display: none; }` but bootstrap.min.css set `[hidden] { display: none !important; }` so we also need the `!important` here to be able to override the default hidden behavior on the sphinx rendered scikit-learn.org. See: https://github.com/scikit-learn/scikit-learn/issues/21755 */display: inline-block !important;position: relative;}#sk-container-id-4 div.sk-text-repr-fallback {display: none;}</style><div id=\"sk-container-id-4\" class=\"sk-top-container\"><div class=\"sk-text-repr-fallback\"><pre>XGBRegressor(base_score=None, booster=None, callbacks=None,\n",
       "             colsample_bylevel=None, colsample_bynode=None,\n",
       "             colsample_bytree=None, device=None, early_stopping_rounds=None,\n",
       "             enable_categorical=False, eval_metric=None, feature_types=None,\n",
       "             gamma=None, grow_policy=None, importance_type=None,\n",
       "             interaction_constraints=None, learning_rate=None, max_bin=None,\n",
       "             max_cat_threshold=None, max_cat_to_onehot=None,\n",
       "             max_delta_step=None, max_depth=None, max_leaves=None,\n",
       "             min_child_weight=None, missing=nan, monotone_constraints=None,\n",
       "             multi_strategy=None, n_estimators=None, n_jobs=None,\n",
       "             num_parallel_tree=None, random_state=1, ...)</pre><b>In a Jupyter environment, please rerun this cell to show the HTML representation or trust the notebook. <br />On GitHub, the HTML representation is unable to render, please try loading this page with nbviewer.org.</b></div><div class=\"sk-container\" hidden><div class=\"sk-item\"><div class=\"sk-estimator sk-toggleable\"><input class=\"sk-toggleable__control sk-hidden--visually\" id=\"sk-estimator-id-4\" type=\"checkbox\" checked><label for=\"sk-estimator-id-4\" class=\"sk-toggleable__label sk-toggleable__label-arrow\">XGBRegressor</label><div class=\"sk-toggleable__content\"><pre>XGBRegressor(base_score=None, booster=None, callbacks=None,\n",
       "             colsample_bylevel=None, colsample_bynode=None,\n",
       "             colsample_bytree=None, device=None, early_stopping_rounds=None,\n",
       "             enable_categorical=False, eval_metric=None, feature_types=None,\n",
       "             gamma=None, grow_policy=None, importance_type=None,\n",
       "             interaction_constraints=None, learning_rate=None, max_bin=None,\n",
       "             max_cat_threshold=None, max_cat_to_onehot=None,\n",
       "             max_delta_step=None, max_depth=None, max_leaves=None,\n",
       "             min_child_weight=None, missing=nan, monotone_constraints=None,\n",
       "             multi_strategy=None, n_estimators=None, n_jobs=None,\n",
       "             num_parallel_tree=None, random_state=1, ...)</pre></div></div></div></div></div>"
      ],
      "text/plain": [
       "XGBRegressor(base_score=None, booster=None, callbacks=None,\n",
       "             colsample_bylevel=None, colsample_bynode=None,\n",
       "             colsample_bytree=None, device=None, early_stopping_rounds=None,\n",
       "             enable_categorical=False, eval_metric=None, feature_types=None,\n",
       "             gamma=None, grow_policy=None, importance_type=None,\n",
       "             interaction_constraints=None, learning_rate=None, max_bin=None,\n",
       "             max_cat_threshold=None, max_cat_to_onehot=None,\n",
       "             max_delta_step=None, max_depth=None, max_leaves=None,\n",
       "             min_child_weight=None, missing=nan, monotone_constraints=None,\n",
       "             multi_strategy=None, n_estimators=None, n_jobs=None,\n",
       "             num_parallel_tree=None, random_state=1, ...)"
      ]
     },
     "execution_count": 247,
     "metadata": {},
     "output_type": "execute_result"
    }
   ],
   "source": [
    "# 再次分割與訓練\n",
    "x2_train=x2[train_index]\n",
    "x2_test=x2[test_index]\n",
    "\n",
    "algorithm2=XGBRegressor(objective='reg:squarederror',random_state=1)\n",
    "algorithm2.fit(x2_train,y_train)"
   ]
  },
  {
   "cell_type": "code",
   "execution_count": 365,
   "id": "5df7d531-6ecb-4dd5-863e-5e130ce354e9",
   "metadata": {},
   "outputs": [
    {
     "name": "stdout",
     "output_type": "stream",
     "text": [
      "y2_R2:0.5760\n"
     ]
    }
   ],
   "source": [
    "# R2\n",
    "y2_pre=algorithm2.predict(x2_test)\n",
    "y2_r2=r2_score(y_test,y2_pre)\n",
    "print(f'y2_R2:{y2_r2:.4f}')"
   ]
  },
  {
   "cell_type": "code",
   "execution_count": 376,
   "id": "99e077f8-74c9-4df1-8b80-5ed9f05c0321",
   "metadata": {},
   "outputs": [
    {
     "name": "stdout",
     "output_type": "stream",
     "text": [
      "r2:0.6085  max_depth:1\n",
      "r2:0.5430  max_depth:2\n",
      "r2:0.6561  max_depth:3\n",
      "r2:0.6627  max_depth:4\n",
      "r2:0.6578  max_depth:5\n"
     ]
    }
   ],
   "source": [
    "# 找最佳深度\n",
    "max_depth=[1,2,3,4,5]\n",
    "algorithm3=XGBRegressor(objective='reg:squarederror',\n",
    "                        random_state=1,)\n",
    "for depth in max_depth:\n",
    "    algorithm3.max_depth=depth\n",
    "    algorithm3.fit(x2_train,y_train)\n",
    "    score=algorithm3.score(x2_test,y_test)\n",
    "    print(f'r2:{score:.4f}  max_depth:{depth}')"
   ]
  },
  {
   "cell_type": "code",
   "execution_count": 377,
   "id": "4ce955d5-77a5-40fd-bc8e-5c7c972eed0f",
   "metadata": {},
   "outputs": [
    {
     "name": "stdout",
     "output_type": "stream",
     "text": [
      "r2:0.6646  max_depth:300\n",
      "r2:0.6655  max_depth:350\n",
      "r2:0.6652  max_depth:400\n",
      "r2:0.6652  max_depth:450\n",
      "r2:0.6656  max_depth:500\n",
      "r2:0.6656  max_depth:550\n",
      "r2:0.6656  max_depth:600\n",
      "r2:0.6657  max_depth:650\n",
      "r2:0.6657  max_depth:700\n",
      "r2:0.6657  max_depth:750\n",
      "r2:0.6657  max_depth:800\n"
     ]
    }
   ],
   "source": [
    "# 找最佳\n",
    "n_estimators=[300,350,400,450,500,550,600,650,700,750,800]\n",
    "algorithm4=XGBRegressor(objective='reg:squarederror',\n",
    "                        random_state=1,\n",
    "                       max_depth=4)\n",
    "\n",
    "for estimators in n_estimators:\n",
    "    algorithm4.n_estimators=estimators\n",
    "    algorithm4.fit(x2_train,y_train)\n",
    "    score=algorithm4.score(x2_test,y_test)\n",
    "    print(f'r2:{score:.4f}  max_depth:{estimators}')"
   ]
  },
  {
   "cell_type": "code",
   "execution_count": 363,
   "id": "bd14fd95-09ca-4b3e-8241-03f24faa37b1",
   "metadata": {},
   "outputs": [
    {
     "name": "stdout",
     "output_type": "stream",
     "text": [
      "R2:0.6657\n"
     ]
    }
   ],
   "source": [
    "# 再次訓練\n",
    "x2_train=x2[train_index]\n",
    "x2_test=x2[test_index]\n",
    "\n",
    "algorithm4=XGBRegressor(objective='reg:squarederror',\n",
    "                        random_state=1,\n",
    "                       n_estimators=650,\n",
    "                        max_depth=4)\n",
    "algorithm4.fit(x2_train,y_train)\n",
    "score_4=algorithm4.score(x2_test,y_test)\n",
    "print(f'R2:{score_4:.4f}')"
   ]
  },
  {
   "cell_type": "code",
   "execution_count": 371,
   "id": "e1e55b1c-c22a-4845-b8ac-17d387160ce0",
   "metadata": {},
   "outputs": [
    {
     "data": {
      "image/png": "[encoded data removed]",
      "text/plain": [
       "<Figure size 432x432 with 1 Axes>"
      ]
     },
     "metadata": {
      "needs_background": "light"
     },
     "output_type": "display_data"
    }
   ],
   "source": [
    "# 散佈圖\n",
    "y3_pre=algorithm4.predict(x2_test)\n",
    "plt.figure(figsize=(6,6))\n",
    "y_max=y_test.max()\n",
    "plt.plot((0,y_max),(0,y_max),c='k')\n",
    "plt.scatter(y_test,y3_pre,c='b')\n",
    "plt.title('實際值與預測值(總用戶)\\nR2=0.6657')\n",
    "plt.grid()\n",
    "plt.show()"
   ]
  },
  {
   "cell_type": "code",
   "execution_count": 386,
   "id": "e8bfce5e-e8d3-491a-aa7f-750aede0ff47",
   "metadata": {},
   "outputs": [
    {
     "data": {
      "image/png": "[encoded data removed]",
      "text/plain": [
       "<Figure size 576x288 with 1 Axes>"
      ]
     },
     "metadata": {
      "needs_background": "light"
     },
     "output_type": "display_data"
    }
   ],
   "source": [
    "# 時間序列圖\n",
    "fig,ax=plt.subplots(figsize=(8,4))\n",
    "dates_test=X['日期'][test_index]\n",
    "ax.plot(dates_test,y_test,c='k',label='實際值')\n",
    "ax.plot(dates_test,y_pre,c='g',label='預測值1')\n",
    "ax.plot(dates_test,y2_pre,c='b',label='預測值2')\n",
    "ax.plot(dates_test,y3_pre,c='r',label='預測值3')\n",
    "\n",
    "# 於每週四顯示日期,標籤旋轉90度\n",
    "weeks=mdates.WeekdayLocator(byweekday=mdates.TH)\n",
    "ax.xaxis.set_major_locator(weeks)\n",
    "ax.tick_params(axis='x',rotation=60)\n",
    "\n",
    "# 顯示\n",
    "ax.grid()\n",
    "ax.legend()\n",
    "ax.set_title('預測總用戶租借輛')\n",
    "plt.show()"
   ]
  },
  {
   "cell_type": "raw",
   "id": "a66ba141-9010-4a39-8b38-365f4df9bd3e",
   "metadata": {},
   "source": [
    "途中可看出預測值2比之前預測值稍微好一點,做完one_hot_code後,在12月跨1月的部分也修正不少"
   ]
  },
  {
   "cell_type": "code",
   "execution_count": 388,
   "id": "b37598ed-0756-4d39-b323-12d315db7b98",
   "metadata": {},
   "outputs": [
    {
     "data": {
      "image/png": "[encoded data removed]",
      "text/plain": [
       "<Figure size 576x288 with 1 Axes>"
      ]
     },
     "metadata": {
      "needs_background": "light"
     },
     "output_type": "display_data"
    }
   ],
   "source": [
    "# 查看特徵重要性\n",
    "import xgboost as xgb\n",
    "fih,ax=plt.subplots(figsize=(8,4))\n",
    "xgb.plot_importance(algorithm,ax=ax,height=0.8,\n",
    "                    importance_type='gain',show_values=False,\n",
    "                   title='特徵重要性(總用戶)')\n",
    "plt.show()"
   ]
  },
  {
   "cell_type": "raw",
   "id": "5fa97672-f047-4257-bc6d-f70dd78eb539",
   "metadata": {},
   "source": [
    "年份是影響最大的特徵,從資料中也顯示第二年的用戶量,相比第一年有所增長\n",
    "大部分重要特徵都與天氣,溫度相關,較溫暖的天氣使用者較多"
   ]
  },
  {
   "cell_type": "code",
   "execution_count": 390,
   "id": "31db5599-d30d-4973-861e-33b0cc8599b8",
   "metadata": {},
   "outputs": [
    {
     "data": {
      "text/plain": [
       "['./bike_model']"
      ]
     },
     "execution_count": 390,
     "metadata": {},
     "output_type": "execute_result"
    }
   ],
   "source": [
    "# 匯出模型\n",
    "import joblib\n",
    "joblib.dump(algorithm4,'./bike_model')"
   ]
  },
  {
   "cell_type": "code",
   "execution_count": 409,
   "id": "0d098d3c-9b62-42e8-8618-e586f01e3dac",
   "metadata": {},
   "outputs": [
    {
     "name": "stdout",
     "output_type": "stream",
     "text": [
      "test_data:\n",
      "[1813.0, 1107.0, 1450.0, 1917.0, 1807.0, 1461.0, 1969.0, 2402.0, 1446.0, 1852.0, 2134.0]\n",
      "\n",
      "true_data:\n",
      "[[1812 1107 1450 1917 1807 1461 1969 2402 1446 1851 2134]]\n"
     ]
    }
   ],
   "source": [
    "# 測試\n",
    "test_data=x2_train.iloc[50:61,:]\n",
    "load_model=joblib.load('bike_model')\n",
    "result=load_model.predict(test_data)\n",
    "print(f'test_data:\\n{list(result.round())}')\n",
    "print()\n",
    "print(f'true_data:\\n{y_train[50:61].T}')\n"
   ]
  }
 ],
 "metadata": {
  "kernelspec": {
   "display_name": "Python 3 (ipykernel)",
   "language": "python",
   "name": "python3"
  },
  "language_info": {
   "codemirror_mode": {
    "name": "ipython",
    "version": 3
   },
   "file_extension": ".py",
   "mimetype": "text/x-python",
   "name": "python",
   "nbconvert_exporter": "python",
   "pygments_lexer": "ipython3",
   "version": "3.9.11"
  }
 },
 "nbformat": 4,
 "nbformat_minor": 5
}
